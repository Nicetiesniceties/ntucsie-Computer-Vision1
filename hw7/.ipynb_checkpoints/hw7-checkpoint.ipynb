{
 "cells": [
  {
   "cell_type": "code",
   "execution_count": 64,
   "metadata": {},
   "outputs": [],
   "source": [
    "def yokoi(f):\n",
    "    if(f == ['r', 'r', 'r', 'r']):\n",
    "        return 5\n",
    "    else:\n",
    "        return f.count('q')"
   ]
  },
  {
   "cell_type": "code",
   "execution_count": 65,
   "metadata": {},
   "outputs": [],
   "source": [
    "def yokoi_operator(shrink_lena, height, width):\n",
    "    frame = []\n",
    "    for i in range(height + 2):\n",
    "        frame.append([])\n",
    "        for j in range(width + 2):\n",
    "            frame[-1].append(0)\n",
    "    # print(np.array(frame).shape)\n",
    "    # put in a 0, 0 frame\n",
    "    for i in range(height):\n",
    "        for j in range(width):\n",
    "            frame[i + 1][j + 1] = shrink_lena[i][j]\n",
    "    ans = [[]]\n",
    "    delta_c = np.array([[1, 0], [0, 1], [-1, 0], [0, -1]])\n",
    "    delta_d = np.array([[1, 1], [-1, 1], [-1, -1], [1, -1]])\n",
    "    delta_e = np.array([[0, 1], [-1, 0], [0, -1], [1, 0]])\n",
    "    after_yokoi = []\n",
    "    for i in range(1, height + 2 - 1):\n",
    "        temp = []\n",
    "        for j in range(1, width + 2 - 1):\n",
    "            if(frame[i][j] == 0):\n",
    "                # print(' ', end = '')\n",
    "                temp.append(0)\n",
    "            else:\n",
    "                f = []\n",
    "                for d in range(4):\n",
    "                    Type = 'chiu'\n",
    "                    o = np.array([i, j])\n",
    "                    b, c, d, e = o, o + delta_c[d] , o + delta_d[d], o + delta_e[d]\n",
    "                    # print(b, c, d, e)\n",
    "                    b, c, d, e = frame[b[0]][b[1]], frame[c[0]][c[1]], frame[d[0]][d[1]], frame[e[0]][e[1]]\n",
    "                    if(b == c and (d != b or e != b)):\n",
    "                        Type = 'q'\n",
    "                    elif(b == c):\n",
    "                        Type = 'r'\n",
    "                    else:\n",
    "                        Type = 's'\n",
    "                    f.append(Type)\n",
    "                ans = yokoi(f)\n",
    "                temp.append(ans)\n",
    "                # print(' ' if(ans == 0) else ans, end = '')\n",
    "        # print()\n",
    "        after_yokoi.append(temp)\n",
    "    return after_yokoi"
   ]
  },
  {
   "cell_type": "code",
   "execution_count": 66,
   "metadata": {},
   "outputs": [],
   "source": [
    "def pair_relationship(yokoi_img, height, width):\n",
    "    frame = np.zeros((height + 2, width + 2), dtype = int)\n",
    "    ans = np.zeros((height, width), dtype = object)\n",
    "    for i in range(height):\n",
    "        for j in range(width):\n",
    "            frame[i + 1][j + 1] = yokoi_img[i][j]\n",
    "    for i in range(height):\n",
    "        for j in range(width):\n",
    "            if(frame[i + 1][j + 1] == 1):\n",
    "                if(frame[i + 1 + 1][j + 1] == 1 or\n",
    "                  frame[i + 1][j + 1 + 1] == 1 or\n",
    "                  frame[i + 1 - 1][j + 1] == 1 or\n",
    "                  frame[i + 1][j + 1 - 1] == 1):\n",
    "                    ans[i][j] = 'p'\n",
    "            elif(frame[i + 1][j + 1] == 0):\n",
    "                ans[i][j] = 0\n",
    "            else:\n",
    "                ans[i][j] = 'q'\n",
    "    # print(frame)\n",
    "    return ans"
   ]
  },
  {
   "cell_type": "code",
   "execution_count": 67,
   "metadata": {},
   "outputs": [],
   "source": [
    "## shrink_operator and marked p\n",
    "'''\n",
    "neighbor = [\n",
    "    [[0, 1], [-1, 1], [-1, 0]]\n",
    "    [[-1, 0], [-1, -1], [0, -1]]\n",
    "    [[0, -1], [1, -1], [1, 0]]\n",
    "    [[-1, 0], [1, 1], [0, 1]]\n",
    "]\n",
    "'''\n",
    "def shrinking_operator(paired_img, shrink_lena, height, width):\n",
    "    frame = np.zeros((66, 66), dtype = object)\n",
    "    ans = np.zeros((64, 64), dtype = int)\n",
    "    for i in range(height):\n",
    "        for j in range(width):\n",
    "            frame[i + 1][j + 1] = shrink_lena[i][j]\n",
    "    for i in range(height):\n",
    "        for j in range(width):\n",
    "            if(paired_img[i][j] == 'p' and 1 == frame[i + 1][j + 1]):\n",
    "                if((1 == frame[i + 1 + 0][j + 1 + 1] and (frame[i + 1 - 1][j + 1 + 1] != 1 or frame[i + 1 - 1][j + 1 + 0] != 1)) +\n",
    "                   (1 == frame[i + 1 - 1][j + 1 + 0] and (frame[i + 1 - 1][j + 1 - 1] != 1 or frame[i + 1 + 0][j + 1 - 1] != 1)) +\n",
    "                   (1 == frame[i + 1 + 0][j + 1 - 1] and (frame[i + 1 + 1][j + 1 - 1] != 1 or frame[i + 1 + 1][j + 1 + 0] != 1)) +\n",
    "                   (1 == frame[i + 1 + 1][j + 1 + 0] and (frame[i + 1 + 1][j + 1 + 1] != 1 or frame[i + 1 + 0][j + 1 + 1] != 1) == 1)\n",
    "                  ):\n",
    "                    frame[i + 1][j + 1] = 0\n",
    "    for i in range(height):\n",
    "        for j in range(width):\n",
    "            shrink_lena[i][j]= frame[i + 1][j + 1]\n",
    "    return shrink_lena\n",
    "def compare_list(a, b):\n",
    "    h = len(a)\n",
    "    w = len(a[0])\n",
    "    for i in range(h):\n",
    "        for j in range(w):\n",
    "            if(a[i][j] != b[i][j]):\n",
    "                return False\n",
    "    return True"
   ]
  },
  {
   "cell_type": "code",
   "execution_count": 68,
   "metadata": {},
   "outputs": [
    {
     "name": "stderr",
     "output_type": "stream",
     "text": [
      "/usr/local/lib/python3.7/site-packages/skimage/io/_io.py:140: UserWarning: shrink.png is a low contrast image\n",
      "  warn('%s is a low contrast image' % fname)\n"
     ]
    }
   ],
   "source": [
    "# Read lena.bmp\n",
    "from skimage import io\n",
    "lena = io.imread(\"lena.bmp\")\n",
    "# io.imshow(lena)\n",
    "height = len(lena)\n",
    "width = len(lena[0])\n",
    "# Binarize\n",
    "binarized_lena = lena.copy()\n",
    "for i in range(height):\n",
    "    for j in range(width):\n",
    "        if(binarized_lena[i][j] >= 128):\n",
    "            binarized_lena[i][j] = 1\n",
    "        else:\n",
    "            binarized_lena[i][j] = 0\n",
    "            \n",
    "# shrinking lena\n",
    "shrink_lena = []\n",
    "for i in range(0, height, 8):\n",
    "    now = []\n",
    "    for j in range(0, width, 8):\n",
    "        if((i % 8 == 0) and (j % 8 == 0)):\n",
    "            now.append(binarized_lena[i][j])\n",
    "    shrink_lena.append(now)\n",
    "# print(shrink_lena)\n",
    "\n",
    "output = np.zeros((64, 64), dtype = int)\n",
    "\n",
    "for i in range(64):\n",
    "    for j in range(64):\n",
    "        if(shrink_lena[i][j] == 1):\n",
    "            output[i][j] = 255\n",
    "io.imsave(\"shrink.png\", output)"
   ]
  },
  {
   "cell_type": "code",
   "execution_count": 69,
   "metadata": {},
   "outputs": [
    {
     "data": {
      "application/vnd.jupyter.widget-view+json": {
       "model_id": "6c558413d838441b8f05207856e4fc7e",
       "version_major": 2,
       "version_minor": 0
      },
      "text/plain": [
       "HBox(children=(IntProgress(value=1, bar_style='info', max=1), HTML(value='')))"
      ]
     },
     "metadata": {},
     "output_type": "display_data"
    },
    {
     "name": "stderr",
     "output_type": "stream",
     "text": [
      "/usr/local/lib/python3.7/site-packages/skimage/io/_io.py:140: UserWarning: thinning.png is a low contrast image\n",
      "  warn('%s is a low contrast image' % fname)\n"
     ]
    },
    {
     "name": "stdout",
     "output_type": "stream",
     "text": [
      "\n"
     ]
    }
   ],
   "source": [
    "from tqdm import tqdm_notebook as tqdm\n",
    "import numpy as np\n",
    "height = len(shrink_lena)\n",
    "width = len(shrink_lena[0])\n",
    "\n",
    "last_shrink_lena = [[0] * 64] * 64\n",
    "pbar = tqdm(total=0)\n",
    "for i in range(14):\n",
    "    pbar.update(1)\n",
    "    \n",
    "    for i in range(height):\n",
    "        for j in range(width):\n",
    "            last_shrink_lena[i][j] = shrink_lena[i][j]\n",
    "            \n",
    "    after_yokoi = yokoi_operator(shrink_lena, height, width)\n",
    "    paired = pair_relationship(after_yokoi, height, width)\n",
    "    shrink_lena = shrinking_operator(paired, shrink_lena, height, width)\n",
    "    # input()\n",
    "    \n",
    "    output = np.zeros((64, 64), dtype = int)\n",
    "    for i in range(height):\n",
    "        for j in range(width):\n",
    "            if(shrink_lena[i][j] == 1):\n",
    "                output[i][j] = 255\n",
    "    io.imsave(\"thinning.png\", output)\n",
    "    del(output)\n",
    "pbar.close()\n",
    "\n",
    "output = np.zeros((64, 64), dtype = int)\n",
    "for i in range(height):\n",
    "    for j in range(width):\n",
    "        if(shrink_lena[i][j] == 1):\n",
    "            output[i][j] = 255\n",
    "io.imsave(\"thinning.png\", output)"
   ]
  },
  {
   "cell_type": "code",
   "execution_count": null,
   "metadata": {},
   "outputs": [],
   "source": []
  }
 ],
 "metadata": {
  "kernelspec": {
   "display_name": "Python 3",
   "language": "python",
   "name": "python3"
  },
  "language_info": {
   "codemirror_mode": {
    "name": "ipython",
    "version": 3
   },
   "file_extension": ".py",
   "mimetype": "text/x-python",
   "name": "python",
   "nbconvert_exporter": "python",
   "pygments_lexer": "ipython3",
   "version": "3.7.0"
  }
 },
 "nbformat": 4,
 "nbformat_minor": 2
}

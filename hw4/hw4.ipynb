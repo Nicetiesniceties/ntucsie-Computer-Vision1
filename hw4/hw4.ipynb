{
 "cells": [
  {
   "cell_type": "code",
   "execution_count": 1,
   "metadata": {},
   "outputs": [],
   "source": [
    "# Read lena.bmp\n",
    "from skimage import io\n",
    "lena = io.imread(\"lena.bmp\")\n",
    "io.imshow(lena)\n",
    "height = len(lena)\n",
    "width = len(lena[0])\n",
    "# io.imsave(\"lena.bmp\", lena)`"
   ]
  },
  {
   "cell_type": "code",
   "execution_count": 2,
   "metadata": {},
   "outputs": [],
   "source": [
    "from tqdm import tqdm_notebook as tqdm\n",
    "def blank_image(height, width):\n",
    "    return np.array([[0 for i in range(width)] for j in range(height)])\n",
    "def binarize(img, lower_expand, upper_expand, threshold):\n",
    "    for i in range(height):\n",
    "        for j in range(width):\n",
    "            img[i][j] = lower_expand if img[i][j] < threshold else upper_expand\n",
    "    return img\n",
    "def dilation(img, kernel):\n",
    "    print(\"---dilation start---\")\n",
    "    return_img = blank_image(height, width)\n",
    "    for i in tqdm(range(height)):\n",
    "        for j in range(width):\n",
    "            if(img[i][j] == 255):\n",
    "                kernel_applied = kernel + [i, j]\n",
    "                for x, y in kernel_applied:\n",
    "                    if(x in range(0, height) and y in range(0, width)):\n",
    "                        return_img[x, y] = 255\n",
    "    print(\"---dilation end---\")\n",
    "    return(return_img)\n",
    "def erosion(img, kernel):\n",
    "\treturn_img = blank_image(height, width)\n",
    "\tprint(\"---erosion start---\")\n",
    "\tfor i in tqdm(range(height)):\n",
    "\t\tfor j in range(width):\n",
    "\t\t\tkernel_applied = kernel + [i, j]\n",
    "\t\t\tcan_be_erosed = True\n",
    "\t\t\tfor x, y in kernel_applied:\n",
    "\t\t\t\tif(not (x in range(0, height) and y in range(0, width) and img[x][y] == 255)):\n",
    "\t\t\t\t\tcan_be_erosed = False\n",
    "\t\t\t\t\tbreak\n",
    "\t\t\tif(can_be_erosed):\n",
    "\t\t\t\treturn_img[i][j] = 255\n",
    "\tprint(\"---erosion end---\")\n",
    "\treturn return_img\n",
    "def hit_and_miss(img, j, k):\n",
    "    img_erosed_by_j = erosion(img, j)\n",
    "    img_dilated_by_k = erosion(255 - img, k)\n",
    "    return_img = blank_image(height, width)\n",
    "    print(\"---hit and miss intersecttion start---\")\n",
    "    for i in tqdm(range(height)):\n",
    "        for j in range(width):\n",
    "            if(img_erosed_by_j[i, j] == img_dilated_by_k[i, j] and img_erosed_by_j[i, j] == 255):\n",
    "                return_img[i, j] = 255\n",
    "    print(\"---hit and miss intersecttion end---\")\n",
    "    return return_img \n",
    "def opening(img, kernel):\n",
    "    temp = erosion(img, kernel)\n",
    "    temp = dilation(temp, kernel)\n",
    "    return temp\n",
    "def closing(img, kernel):\n",
    "    temp = dilation(img, kernel)\n",
    "    temp = erosion(temp, kernel)\n",
    "    return temp"
   ]
  },
  {
   "cell_type": "code",
   "execution_count": 3,
   "metadata": {},
   "outputs": [
    {
     "data": {
      "text/plain": [
       "<matplotlib.image.AxesImage at 0x1175be438>"
      ]
     },
     "execution_count": 3,
     "metadata": {},
     "output_type": "execute_result"
    },
    {
     "data": {
      "image/png": "[encoded data removed]",
      "text/plain": [
       "<Figure size 432x288 with 1 Axes>"
      ]
     },
     "metadata": {
      "needs_background": "light"
     },
     "output_type": "display_data"
    }
   ],
   "source": [
    "lena = binarize(lena, 0, 255, 128)\n",
    "io.imshow(lena)"
   ]
  },
  {
   "cell_type": "code",
   "execution_count": 4,
   "metadata": {},
   "outputs": [],
   "source": [
    "import numpy as np\n",
    "kernel = np.array([  [0, 0], [0, 1], [0, 2], [0, -1], [0, -2], [1, 0], \n",
    "          [1, 1], [1, 2], [1, -1], [1, -2],  [-1, 0], [-1, 1], \n",
    "          [-1, 2], [-1, -1], [-1, -2], [2, 0], [2, 1], [2, -1],  \n",
    "          [-2, 0], [-2, 1], [-2, -1] ])\n",
    "j = np.array([ [0,0] , [1, 0], [0, -1] ])\n",
    "k = np.array([ [-1, 1], [0, 1], [-1, 0] ])"
   ]
  },
  {
   "cell_type": "code",
   "execution_count": 6,
   "metadata": {},
   "outputs": [
    {
     "name": "stdout",
     "output_type": "stream",
     "text": [
      "---dilation start---\n"
     ]
    },
    {
     "data": {
      "application/vnd.jupyter.widget-view+json": {
       "model_id": "2921829e62d84e44a44e159a8dc04180",
       "version_major": 2,
       "version_minor": 0
      },
      "text/plain": [
       "HBox(children=(IntProgress(value=0, max=512), HTML(value='')))"
      ]
     },
     "metadata": {},
     "output_type": "display_data"
    },
    {
     "name": "stdout",
     "output_type": "stream",
     "text": [
      "\n",
      "---dilation end---\n",
      "---erosion start---\n"
     ]
    },
    {
     "name": "stderr",
     "output_type": "stream",
     "text": [
      "/usr/local/lib/python3.7/site-packages/skimage/io/_io.py:140: UserWarning: dilation.png is a low contrast image\n",
      "  warn('%s is a low contrast image' % fname)\n"
     ]
    },
    {
     "data": {
      "application/vnd.jupyter.widget-view+json": {
       "model_id": "6fe9f8b5bd814d56875ce50404bd2f22",
       "version_major": 2,
       "version_minor": 0
      },
      "text/plain": [
       "HBox(children=(IntProgress(value=0, max=512), HTML(value='')))"
      ]
     },
     "metadata": {},
     "output_type": "display_data"
    },
    {
     "name": "stdout",
     "output_type": "stream",
     "text": [
      "\n",
      "---erosion end---\n",
      "---erosion start---\n"
     ]
    },
    {
     "data": {
      "application/vnd.jupyter.widget-view+json": {
       "model_id": "dc5c94f870ca48fc896161d42f65204d",
       "version_major": 2,
       "version_minor": 0
      },
      "text/plain": [
       "HBox(children=(IntProgress(value=0, max=512), HTML(value='')))"
      ]
     },
     "metadata": {},
     "output_type": "display_data"
    },
    {
     "name": "stdout",
     "output_type": "stream",
     "text": [
      "\n",
      "---erosion end---\n",
      "---hit and miss intersecttion start---\n"
     ]
    },
    {
     "data": {
      "application/vnd.jupyter.widget-view+json": {
       "model_id": "ce8e09262e0f4d7d889b6b80941bde83",
       "version_major": 2,
       "version_minor": 0
      },
      "text/plain": [
       "HBox(children=(IntProgress(value=0, max=512), HTML(value='')))"
      ]
     },
     "metadata": {},
     "output_type": "display_data"
    },
    {
     "name": "stdout",
     "output_type": "stream",
     "text": [
      "\n",
      "---hit and miss intersecttion end---\n",
      "---erosion start---\n"
     ]
    },
    {
     "name": "stderr",
     "output_type": "stream",
     "text": [
      "/usr/local/lib/python3.7/site-packages/skimage/io/_io.py:140: UserWarning: hit_and_miss.png is a low contrast image\n",
      "  warn('%s is a low contrast image' % fname)\n"
     ]
    },
    {
     "data": {
      "application/vnd.jupyter.widget-view+json": {
       "model_id": "7a059a4ae3f14505a672c3bd9e4146c9",
       "version_major": 2,
       "version_minor": 0
      },
      "text/plain": [
       "HBox(children=(IntProgress(value=0, max=512), HTML(value='')))"
      ]
     },
     "metadata": {},
     "output_type": "display_data"
    },
    {
     "name": "stdout",
     "output_type": "stream",
     "text": [
      "\n",
      "---erosion end---\n",
      "---dilation start---\n"
     ]
    },
    {
     "data": {
      "application/vnd.jupyter.widget-view+json": {
       "model_id": "64cb3a8a4f0c43fa9fcaa89cdc079488",
       "version_major": 2,
       "version_minor": 0
      },
      "text/plain": [
       "HBox(children=(IntProgress(value=0, max=512), HTML(value='')))"
      ]
     },
     "metadata": {},
     "output_type": "display_data"
    },
    {
     "name": "stdout",
     "output_type": "stream",
     "text": [
      "\n",
      "---dilation end---\n",
      "---dilation start---\n"
     ]
    },
    {
     "name": "stderr",
     "output_type": "stream",
     "text": [
      "/usr/local/lib/python3.7/site-packages/skimage/io/_io.py:140: UserWarning: opening.png is a low contrast image\n",
      "  warn('%s is a low contrast image' % fname)\n"
     ]
    },
    {
     "data": {
      "application/vnd.jupyter.widget-view+json": {
       "model_id": "4b14efebfd64472ba9e2ddfd608def76",
       "version_major": 2,
       "version_minor": 0
      },
      "text/plain": [
       "HBox(children=(IntProgress(value=0, max=512), HTML(value='')))"
      ]
     },
     "metadata": {},
     "output_type": "display_data"
    },
    {
     "name": "stdout",
     "output_type": "stream",
     "text": [
      "\n",
      "---dilation end---\n",
      "---erosion start---\n"
     ]
    },
    {
     "data": {
      "application/vnd.jupyter.widget-view+json": {
       "model_id": "dfe337ed1c93424fb10feb26bb97bef4",
       "version_major": 2,
       "version_minor": 0
      },
      "text/plain": [
       "HBox(children=(IntProgress(value=0, max=512), HTML(value='')))"
      ]
     },
     "metadata": {},
     "output_type": "display_data"
    },
    {
     "name": "stdout",
     "output_type": "stream",
     "text": [
      "\n",
      "---erosion end---\n"
     ]
    },
    {
     "name": "stderr",
     "output_type": "stream",
     "text": [
      "/usr/local/lib/python3.7/site-packages/skimage/io/_io.py:140: UserWarning: closing.png is a low contrast image\n",
      "  warn('%s is a low contrast image' % fname)\n"
     ]
    }
   ],
   "source": [
    "temp = dilation(lena, kernel)\n",
    "io.imsave(\"dilation.png\", temp)\n",
    "\n",
    "# temp = erosion(lena, kernel)\n",
    "# io.imsave(\"erosion.png\", temp)\n",
    "\n",
    "temp = hit_and_miss(lena, j, k)\n",
    "io.imsave(\"hit_and_miss.png\", temp)\n",
    "\n",
    "temp = opening(lena, kernel)\n",
    "io.imsave(\"opening.png\", temp)\n",
    "\n",
    "temp = closing(lena, kernel)\n",
    "io.imsave(\"closing.png\", temp)"
   ]
  },
  {
   "cell_type": "code",
   "execution_count": null,
   "metadata": {},
   "outputs": [],
   "source": []
  }
 ],
 "metadata": {
  "kernelspec": {
   "display_name": "Python 3",
   "language": "python",
   "name": "python3"
  },
  "language_info": {
   "codemirror_mode": {
    "name": "ipython",
    "version": 3
   },
   "file_extension": ".py",
   "mimetype": "text/x-python",
   "name": "python",
   "nbconvert_exporter": "python",
   "pygments_lexer": "ipython3",
   "version": "3.7.0"
  }
 },
 "nbformat": 4,
 "nbformat_minor": 2
}

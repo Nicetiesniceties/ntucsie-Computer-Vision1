{
 "cells": [
  {
   "cell_type": "code",
   "execution_count": 6,
   "metadata": {},
   "outputs": [
    {
     "data": {
      "text/plain": [
       "(512, 512)"
      ]
     },
     "execution_count": 6,
     "metadata": {},
     "output_type": "execute_result"
    }
   ],
   "source": [
    "from skimage import io\n",
    "import numpy as np\n",
    "lena = io.imread('lena.bmp')\n",
    "height = len(lena)\n",
    "width = len(lena[0])"
   ]
  },
  {
   "cell_type": "code",
   "execution_count": 17,
   "metadata": {},
   "outputs": [],
   "source": [
    "def blank_image(height, width, value):\n",
    "    temp = np.zeros((height, width), dtype = int)\n",
    "    return temp + value"
   ]
  },
  {
   "cell_type": "code",
   "execution_count": 48,
   "metadata": {},
   "outputs": [],
   "source": [
    "from tqdm import tqdm_notebook as tqdm\n",
    "import math\n",
    "def robert(img, threshold):\n",
    "    return_img = blank_image(height, width, 255)\n",
    "    for i in tqdm(range(height - 1)):\n",
    "        for j in range(width - 1):\n",
    "            r1 = img[i][j] * (-1) + img[i + 1][j + 1] * 1\n",
    "            r2 = img[i + 1][j] * 1 + img[i][j + 1] * (-1)\n",
    "            r = r1 ** 2 + r2 ** 2\n",
    "            if(r > threshold ** 2):\n",
    "                return_img[i][j] = 0\n",
    "    return return_img\n",
    "def prewitt(img, threshold):\n",
    "    return_img = blank_image(height, width, 255)\n",
    "    for i in tqdm(range(1, height - 1)):\n",
    "        for j in range(1, width - 1):\n",
    "            p1 = img[i - 1][j - 1] * (-1) + img[i - 1][j] * (-1) + img[i - 1][j + 1] * (-1) + img[i + 1][j - 1] + img[i + 1][j] + img[i + 1][j + 1]\n",
    "            p2 = img[i - 1][j - 1] * (-1) + img[i][j - 1] * (-1) + img[i + 1][j - 1] * (-1) + img[i - 1][j + 1] + img[i][j + 1] + img[i + 1][j + 1]\n",
    "            p = p1 ** 2 + p2 ** 2\n",
    "            if(p > threshold ** 2):\n",
    "                return_img[i][j] = 0\n",
    "    return return_img\n",
    "def sobel(img, threshold):\n",
    "    return_img = blank_image(height, width, 255)\n",
    "    for i in tqdm(range(1, height - 1)):\n",
    "        for j in range(1, width - 1):\n",
    "            s1 = img[i - 1][j - 1] * (-1) + img[i - 1][j] * (-2) + img[i - 1][j + 1] * (-1) + img[i + 1][j - 1] + img[i + 1][j] * 2 + img[i + 1][j + 1]\n",
    "            s2 = img[i - 1][j - 1] * (-1) + img[i][j - 1] * (-2) + img[i + 1][j - 1] * (-1) + img[i - 1][j + 1] + img[i][j + 1] * 2 + img[i + 1][j + 1]\n",
    "            s = s1 ** 2 + s2 ** 2\n",
    "            if(s > threshold ** 2):\n",
    "                return_img[i][j] = 0\n",
    "    return return_img\n",
    "def frei_and_chen(img, threshold):\n",
    "    return_img = blank_image(height, width, 255)\n",
    "    sqrt = math.sqrt(2)\n",
    "    for i in tqdm(range(1, height - 1)):\n",
    "        for j in range(1, width - 1):\n",
    "            f1 = img[i - 1][j - 1] * (-1) + img[i - 1][j] * (-sqrt) + img[i - 1][j + 1] * (-1) + img[i + 1][j - 1] + img[i + 1][j] * sqrt + img[i + 1][j + 1]\n",
    "            f2 = img[i - 1][j - 1] * (-1) + img[i][j - 1] * (-sqrt) + img[i + 1][j - 1] * (-1) + img[i - 1][j + 1] + img[i][j + 1] * sqrt + img[i + 1][j + 1]\n",
    "            f = f1 ** 2 +f2 ** 2\n",
    "            if(f > threshold ** 2):\n",
    "                return_img[i][j] = 0\n",
    "    return return_img\n",
    "def kirsch(img, threshold):\n",
    "    k = [-3, -3, -3,-3, -3, 5, 5, 5]\n",
    "    return_img = blank_image(height, width, 255)\n",
    "    for i in tqdm(range(1, height - 1)):\n",
    "        for j in range(1, width - 1):\n",
    "            k_list = []\n",
    "            for idx in range(8):\n",
    "                k_list.append(img[i - 1][j - 1] * k[idx % 8] + img[i - 1][j] * k[(idx + 1) % 8] + img[i - 1][j + 1] * k[(idx + 2) % 8]\n",
    "                    + img[i][j + 1] * k[(idx + 3) % 8] + img[i + 1][j + 1] * k[(idx + 4) % 8]\n",
    "                    + img[i + 1][j] * k[(idx + 5) % 8] + img[i + 1][j - 1] * k[(idx + 6) % 8] + img[i][j - 1] * k[(idx + 7) % 8])\n",
    "            if(max(k_list) > threshold):\n",
    "                return_img[i][j] = 0\n",
    "    return return_img\n",
    "def robinson(img, threshold):\n",
    "    r = [-1, 0, 1, 2, 1, 0, -1, -2]\n",
    "    return_img = blank_image(height, width, 255)\n",
    "    for i in tqdm(range(1, height - 1)):\n",
    "        for j in range(1, width - 1):\n",
    "            r_list = []\n",
    "            for idx in range(8):\n",
    "                r_list.append(img[i - 1][j - 1] * r[idx % 8] + img[i - 1][j] * r[(idx + 1) % 8] + img[i - 1][j + 1] * r[(idx + 2) % 8]\n",
    "                    + img[i][j + 1] * r[(idx + 3) % 8] + img[i + 1][j + 1] * r[(idx + 4) % 8]\n",
    "                    + img[i + 1][j] * r[(idx + 5) % 8] + img[i + 1][j - 1] * r[(idx + 6) % 8] + img[i][j - 1] * r[(idx + 7) % 8])\n",
    "            if(max(r_list) > threshold):\n",
    "                return_img[i][j] = 0\n",
    "    return return_img\n",
    "def nevatia_babu(img, threshold):\n",
    "    kernel = [ [-2, -2], [-1, -2], [0, -2], [1, -2], [2, -2],\n",
    "    [-2, -1], [-1, -1], [0, -1], [1, -1], [2, -1],\n",
    "    [-2, 0], [-1, 0], [0, 0], [1, 0], [2, 0],\n",
    "    [-2, 1], [-1, 1], [0, 1], [1, 1], [2, 1],\n",
    "    [-2, 2], [-1, 2], [0, 2], [1, 2], [2, 2] ] \n",
    "    g0 = [ 100, 100, 0, -100, -100, 100, 100, 0, -100, -100, 100, 100, 0, -100, -100, 100, 100, 0, -100, -100, 100, 100, 0, -100, -100]\n",
    "    g1 = [ 100, 100, 100, 100, 100, 100, 100, 100, 78, -32, 100, 92, 0, -92, -100, 32, -78, -100, -100, -100, -100, -100, -100, -100, -100]\n",
    "    g2 = [-100, -100, -100, -100, -100, 32, -78, -100, -100, -100, 100, 92, 0, -92, -100, 100, 100, 100, 78, -32, 100, 100, 100, 100, 100]\n",
    "    g3 = [ 100, 100, 100, 32, -100, 100, 100, 92, -78, -100, 100, 100, 0, -100, -100, 100, 78, -92, -100, -100, 100, -32, -100, -100, -100]\n",
    "    g4 = [ -100, -100, -100, -100, -100, -100, -100, -100, -100, -100, 0, 0, 0, 0, 0, 100, 100, 100, 100, 100, 100, 100, 100, 100, 100]\n",
    "    g5 = [ 100, -32, -100, -100, -100, 100, 78, -92, -100, -100, 100, 100, 0, -100, -100, 100, 100, 92, -78, -100, 100, 100, 100, 32, -100]\n",
    "    g = [g0, g1, g2, g3, g4, g5]\n",
    "    return_img = blank_image(height, width, 255)\n",
    "    for i in tqdm(range(2, height - 2)):\n",
    "        for j in range(2, width - 2):\n",
    "            g_list = []\n",
    "            for g_idx in range(6):\n",
    "                temp = 0\n",
    "                for idx in range(25):\n",
    "                    temp += img[i + kernel[idx][0]][j + kernel[idx][1]] * g[g_idx][idx]\n",
    "                g_list.append(temp)\n",
    "            if(max(g_list) > threshold):\n",
    "                return_img[i][j] = 0\n",
    "    return return_img"
   ]
  },
  {
   "cell_type": "code",
   "execution_count": 49,
   "metadata": {},
   "outputs": [
    {
     "data": {
      "application/vnd.jupyter.widget-view+json": {
       "model_id": "2bc6a104622248a9a82a28f1aaa07d6f",
       "version_major": 2,
       "version_minor": 0
      },
      "text/plain": [
       "HBox(children=(IntProgress(value=0, max=508), HTML(value='')))"
      ]
     },
     "metadata": {},
     "output_type": "display_data"
    },
    {
     "name": "stdout",
     "output_type": "stream",
     "text": [
      "\n"
     ]
    },
    {
     "name": "stderr",
     "output_type": "stream",
     "text": [
      "/usr/local/lib/python3.7/site-packages/skimage/io/_io.py:140: UserWarning: nevatia_babu.png is a low contrast image\n",
      "  warn('%s is a low contrast image' % fname)\n"
     ]
    }
   ],
   "source": [
    "io.imsave(\"robert.png\", robert(lena, 12))\n",
    "io.imsave(\"prewitt.png\", prewitt(lena, 24))\n",
    "io.imsave(\"sobel.png\", sobel(lena, 38))\n",
    "io.imsave(\"frei_and_chen.png\", frei_and_chen(lena, 30))\n",
    "io.imsave(\"kirsch.png\", kirsch(lena, 135))\n",
    "io.imsave(\"robinson.png\", robinson(lena, 43))\n",
    "io.imsave(\"nevatia_babu.png\", nevatia_babu(lena, 12500))"
   ]
  },
  {
   "cell_type": "code",
   "execution_count": null,
   "metadata": {},
   "outputs": [],
   "source": []
  }
 ],
 "metadata": {
  "kernelspec": {
   "display_name": "Python 3",
   "language": "python",
   "name": "python3"
  },
  "language_info": {
   "codemirror_mode": {
    "name": "ipython",
    "version": 3
   },
   "file_extension": ".py",
   "mimetype": "text/x-python",
   "name": "python",
   "nbconvert_exporter": "python",
   "pygments_lexer": "ipython3",
   "version": "3.7.0"
  }
 },
 "nbformat": 4,
 "nbformat_minor": 2
}

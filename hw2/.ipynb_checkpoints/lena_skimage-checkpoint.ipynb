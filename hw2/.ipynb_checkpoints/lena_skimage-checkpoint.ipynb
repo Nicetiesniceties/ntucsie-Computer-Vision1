{
 "cells": [
  {
   "cell_type": "code",
   "execution_count": 2,
   "metadata": {},
   "outputs": [
    {
     "name": "stdout",
     "output_type": "stream",
     "text": [
      "[[162 162 162 ... 170 155 128]\n",
      " [162 162 162 ... 170 155 128]\n",
      " [162 162 162 ... 170 155 128]\n",
      " ...\n",
      " [ 43  43  50 ... 104 100  98]\n",
      " [ 44  44  55 ... 104 105 108]\n",
      " [ 44  44  55 ... 104 105 108]]\n"
     ]
    }
   ],
   "source": [
    "from skimage import io\n",
    "lena = io.imread(\"lena.bmp\")\n",
    "io.imshow(lena)\n",
    "\n",
    "lena.shape\n",
    "print(lena)"
   ]
  },
  {
   "cell_type": "code",
   "execution_count": 3,
   "metadata": {},
   "outputs": [
    {
     "data": {
      "image/png": "[encoded data removed]",
      "text/plain": [
       "<Figure size 432x288 with 1 Axes>"
      ]
     },
     "metadata": {
      "needs_background": "light"
     },
     "output_type": "display_data"
    }
   ],
   "source": [
    "lena_binarized = lena.copy()\n",
    "for i in range(len(lena_binarized)):\n",
    "    for j in range(len(lena_binarized[i])):\n",
    "        if(lena_binarized[i][j] >= 128):\n",
    "            lena_binarized[i][j] = 255\n",
    "        else:\n",
    "            lena_binarized[i][j] = 0\n",
    "io.imshow(lena_binarized)\n",
    "io.imsave(\"lena_binarized.png\", lena_binarized)"
   ]
  },
  {
   "cell_type": "code",
   "execution_count": 4,
   "metadata": {},
   "outputs": [
    {
     "name": "stdout",
     "output_type": "stream",
     "text": [
      "[0, 0, 0, 0, 0, 0, 0, 0, 0, 0, 0, 0, 0, 0, 0, 0, 0, 0, 0, 0, 0, 0, 0, 0, 0, 1, 7, 19, 29, 59, 97, 137, 182, 221, 299, 422, 499, 614, 758, 944, 1060, 1255, 1441, 1648, 1760, 1884, 1998, 2090, 2023, 2101, 2088, 2030, 1978, 1808, 1730, 1668, 1577, 1469, 1278, 1236, 1220, 1003, 930, 975, 880, 893, 789, 798, 769, 782, 850, 821, 831, 785, 883, 906, 867, 854, 947, 973, 906, 912, 867, 934, 933, 970, 1005, 1019, 1060, 1133, 1125, 1186, 1219, 1324, 1400, 1538, 1619, 1807, 1871, 2085, 1895, 1935, 1958, 1831, 1761, 1729, 1614, 1504, 1437, 1363, 1362, 1347, 1345, 1448, 1362, 1352, 1388, 1450, 1561, 1575, 1604, 1781, 1813, 1893, 2037, 2137, 2304, 2319, 2373, 2519, 2305, 2302, 2252, 2076, 1995, 1818, 1935, 1903, 2025, 2140, 2258, 2305, 2324, 2455, 2458, 2409, 2234, 2315, 2288, 2182, 2275, 2315, 2391, 2598, 2685, 2742, 2701, 2556, 2410, 2261, 2041, 1853, 1781, 1613, 1473, 1425, 1353, 1233, 1254, 1195, 1171, 1208, 1344, 1265, 1230, 1158, 1185, 1227, 1086, 942, 904, 822, 784, 689, 610, 628, 644, 679, 635, 662, 739, 797, 828, 941, 905, 978, 919, 910, 843, 824, 867, 902, 834, 886, 909, 970, 976, 1065, 1043, 1068, 956, 982, 955, 864, 697, 544, 491, 393, 381, 284, 230, 234, 195, 188, 125, 77, 74, 59, 51, 22, 19, 9, 7, 6, 8, 1, 0, 0, 1, 0, 0, 0, 2, 0, 1, 1, 0, 0, 0, 0, 0, 0, 0, 0, 0, 0]\n"
     ]
    }
   ],
   "source": [
    "import numpy as np\n",
    "pix_count = np.zeros((256,), dtype=int)\n",
    "for i in lena:\n",
    "    for j in i:\n",
    "        pix_count[j] += 1\n",
    "print(list(pix_count))\n",
    "pix_count = list(pix_count)"
   ]
  },
  {
   "cell_type": "code",
   "execution_count": 45,
   "metadata": {},
   "outputs": [
    {
     "data": {
      "image/png": "[encoded data removed]",
      "text/plain": [
       "<Figure size 432x288 with 1 Axes>"
      ]
     },
     "metadata": {
      "needs_background": "light"
     },
     "output_type": "display_data"
    }
   ],
   "source": [
    "import matplotlib.pyplot as plt\n",
    "import numpy as np\n",
    "import matplotlib as mpl\n",
    "name = \"hw2-2\"\n",
    "# mpl.style.use('seaborn')\n",
    "plt.bar(range(len(pix_count)), pix_count, color = '#fccf0d', edgecolor='#000000', width=2.0, lw=0.6)\n",
    "plt.title(\"Lena hw2-2\")\n",
    "# plt.text(mean, sample_space.count(int(mean)), r'$\\mu=%f,\\ \\sigma=%s$'%(mean, dev), bbox={'facecolor':'grey', 'alpha':0.5, 'pad':10})\n",
    "plt.xlabel(\"Grey level value\")\n",
    "plt.ylabel(\"Appearing times\")\n",
    "fig = plt.gcf()\n",
    "plt.savefig(name + '.png', dpi=130)\n",
    "# plt.gcf().clear()"
   ]
  },
  {
   "cell_type": "code",
   "execution_count": 67,
   "metadata": {},
   "outputs": [
    {
     "name": "stdout",
     "output_type": "stream",
     "text": [
      "[[0. 0. 0. ... 0. 0. 0.]\n",
      " [0. 0. 0. ... 0. 0. 0.]\n",
      " [0. 0. 0. ... 0. 0. 0.]\n",
      " ...\n",
      " [0. 0. 0. ... 0. 0. 0.]\n",
      " [0. 0. 0. ... 0. 0. 0.]\n",
      " [0. 0. 0. ... 0. 0. 0.]]\n",
      "[[  1.   1.   1. ...  -1.  -1.  -1.]\n",
      " [  1.   1.   1. ...  -1.  -1.  -1.]\n",
      " [  1.   1.   1. ...  -1.  -1.  -1.]\n",
      " ...\n",
      " [131. 131. 131. ... 111. 111.  -1.]\n",
      " [131. 131. 131. ... 111. 111.  -1.]\n",
      " [ -1.  -1.  -1. ...  -1.  -1.  -1.]] [(0, 510, 0, 87), (0, 510, 59, 298), (0, 510, 127, 510), (0, 129, 195, 337), (0, 349, 367, 510), (55, 510, 0, 35), (73, 135, 360, 396), (94, 237, 118, 157), (189, 459, 308, 375), (237, 287, 89, 139), (353, 446, 382, 451), (381, 510, 370, 510), (399, 510, 0, 31), (412, 510, 0, 15)] [(228, 42), (281, 145), (244, 343), (51, 295), (134, 437), (259, 15), (104, 373), (175, 132), (328, 349), (264, 116), (400, 424), (466, 459), (457, 17), (467, 5)]\n"
     ]
    }
   ],
   "source": [
    "# bfs\n",
    "import numpy as np\n",
    "size, theradhold = 511, 500\n",
    "def valid_range(i, j):\n",
    "    return (i in range(0, size)) and (j in range(0, size))\n",
    "def bfs(img, i, j):\n",
    "    global color, decision_map\n",
    "    queue, count = [(i, j)], 0\n",
    "    upper, lower, left, right = 512, -1, 512, -1\n",
    "    centroid_x, centroid_y = 0, 0\n",
    "    delta_x, delta_y = [1, 0, -1, 0], [0, 1, 0, -1]\n",
    "    decision_map[i][j] = color\n",
    "    while(len(queue) != 0):\n",
    "        # print(queue)\n",
    "        # print(decision_map)\n",
    "        temp = queue.pop()\n",
    "        x, y = temp[0], temp[1]\n",
    "        centroid_x += x\n",
    "        centroid_y += y\n",
    "        upper, lower, left, right = (\n",
    "            x if(x < upper) else upper, x if(x > lower) else lower, \n",
    "            y if(y < left) else left, y if(y > right) else right\n",
    "        )\n",
    "        \n",
    "        for d in range(4):\n",
    "            if((valid_range(x + delta_x[d], y + delta_y[d]))\n",
    "            and (decision_map[x + delta_x[d]][y + delta_y[d]] == 0)\n",
    "            and (img[x + delta_x[d]][y + delta_y[d]] == img[x][y])):\n",
    "                queue = [(x + delta_x[d], y + delta_y[d])] + queue\n",
    "                decision_map[x + delta_x[d]][y + delta_y[d]] = color\n",
    "        count += 1\n",
    "    if(count < theradhold):\n",
    "        decision_map[decision_map == color] = -1\n",
    "        return False\n",
    "    else:\n",
    "        color += 10\n",
    "    return upper, lower, left, right, int(centroid_x / count), int(centroid_y / count)\n",
    "\n",
    "img = lena_binarized.copy()\n",
    "# img = np.array([[0, 255, 0, 255], [0, 255, 0, 255], [0, 255, 255, 255], [0, 255, 0, 0]])\n",
    "decision_map = np.zeros(img.shape)\n",
    "bounding_boxes, centroids = [], []\n",
    "print(decision_map)\n",
    "color = 1\n",
    "for i in range(len(img)):\n",
    "    for j in range(len(img[i])):\n",
    "        if(decision_map[i][j] == 0):\n",
    "            temp = bfs(img, i, j)\n",
    "            if(temp != False):    \n",
    "                bounding_boxes.append(temp[0:4])\n",
    "                centroids.append(temp[4:6])\n",
    "np.save(\"decision_map.npy\", decision_map)\n",
    "decision_map = np.load(\"decision_map.npy\")\n",
    "print(decision_map, bounding_boxes, centroids)"
   ]
  },
  {
   "cell_type": "code",
   "execution_count": 70,
   "metadata": {},
   "outputs": [
    {
     "name": "stderr",
     "output_type": "stream",
     "text": [
      "/usr/local/lib/python3.7/site-packages/skimage/io/_plugins/matplotlib_plugin.py:77: UserWarning: Low image data range; displaying image with stretched contrast.\n",
      "  warn(\"Low image data range; displaying image with \"\n",
      "/usr/local/lib/python3.7/site-packages/skimage/io/_io.py:140: UserWarning: bfs.png is a low contrast image\n",
      "  warn('%s is a low contrast image' % fname)\n",
      "/usr/local/lib/python3.7/site-packages/skimage/io/_io.py:140: UserWarning: bfs_T.png is a low contrast image\n",
      "  warn('%s is a low contrast image' % fname)\n"
     ]
    },
    {
     "data": {
      "image/png": "[encoded data removed]",
      "text/plain": [
       "<Figure size 432x288 with 2 Axes>"
      ]
     },
     "metadata": {
      "needs_background": "light"
     },
     "output_type": "display_data"
    }
   ],
   "source": [
    "# generating image colored by connected components\n",
    "decision_map[decision_map == -1] = 255\n",
    "decision_map = decision_map.astype(int)\n",
    "\n",
    "io.imshow(decision_map)\n",
    "io.imsave(\"bfs.png\", 255 - decision_map)\n",
    "io.imsave(\"bfs_T.png\", decision_map)"
   ]
  },
  {
   "cell_type": "code",
   "execution_count": 79,
   "metadata": {},
   "outputs": [
    {
     "name": "stderr",
     "output_type": "stream",
     "text": [
      "/usr/local/lib/python3.7/site-packages/skimage/io/_plugins/matplotlib_plugin.py:77: UserWarning: Low image data range; displaying image with stretched contrast.\n",
      "  warn(\"Low image data range; displaying image with \"\n",
      "/usr/local/lib/python3.7/site-packages/skimage/io/_io.py:140: UserWarning: bounding_box_bfs.png is a low contrast image\n",
      "  warn('%s is a low contrast image' % fname)\n"
     ]
    },
    {
     "data": {
      "image/png": "[encoded data removed]",
      "text/plain": [
       "<Figure size 432x288 with 2 Axes>"
      ]
     },
     "metadata": {
      "needs_background": "light"
     },
     "output_type": "display_data"
    }
   ],
   "source": [
    "cr = 0\n",
    "from skimage.draw import line_aa\n",
    "bounding_img = 255 - decision_map.copy()\n",
    "for i in bounding_boxes:\n",
    "    rr, cc, val= line_aa(i[0], i[2], i[1], i[2])\n",
    "    bounding_img[rr, cc] = cr * val\n",
    "    rr, cc, val= line_aa(i[0], i[3], i[1], i[3])\n",
    "    bounding_img[rr, cc] = cr * val\n",
    "    rr, cc, val= line_aa(i[0], i[2], i[0], i[3])\n",
    "    bounding_img[rr, cc] = cr * val\n",
    "    rr, cc, val= line_aa(i[1], i[2], i[1], i[3])\n",
    "    bounding_img[rr, cc] = cr * val\n",
    "io.imshow(bounding_img)\n",
    "io.imsave(\"bounding_box_bfs.png\", bounding_img)\n",
    "\n",
    "from skimage.draw import circle\n",
    "bounding_img = io.imread(\"bounding_box_bfs.png\")\n",
    "for i in centroids:\n",
    "    rr, cc = circle(i[0], i[1], 5)\n",
    "    bounding_img[rr, cc] = cr\n",
    "io.imshow(bounding_img)\n",
    "io.imsave(\"bounding_box_centroids_bfs.png\", bounding_img)"
   ]
  },
  {
   "cell_type": "code",
   "execution_count": 68,
   "metadata": {},
   "outputs": [
    {
     "name": "stdout",
     "output_type": "stream",
     "text": [
      "[[0. 0. 0. ... 0. 0. 0.]\n",
      " [0. 0. 0. ... 0. 0. 0.]\n",
      " [0. 0. 0. ... 0. 0. 0.]\n",
      " ...\n",
      " [0. 0. 0. ... 0. 0. 0.]\n",
      " [0. 0. 0. ... 0. 0. 0.]\n",
      " [0. 0. 0. ... 0. 0. 0.]]\n"
     ]
    },
    {
     "ename": "RecursionError",
     "evalue": "maximum recursion depth exceeded in comparison",
     "output_type": "error",
     "traceback": [
      "\u001b[0;31m---------------------------------------------------------------------------\u001b[0m",
      "\u001b[0;31mRecursionError\u001b[0m                            Traceback (most recent call last)",
      "\u001b[0;32m<ipython-input-68-d4455b635eb2>\u001b[0m in \u001b[0;36m<module>\u001b[0;34m()\u001b[0m\n\u001b[1;32m     39\u001b[0m         \u001b[0mcount\u001b[0m \u001b[0;34m=\u001b[0m \u001b[0;36m0\u001b[0m\u001b[0;34m\u001b[0m\u001b[0m\n\u001b[1;32m     40\u001b[0m         \u001b[0;32mif\u001b[0m\u001b[0;34m(\u001b[0m\u001b[0mregions\u001b[0m\u001b[0;34m[\u001b[0m\u001b[0mi\u001b[0m\u001b[0;34m]\u001b[0m\u001b[0;34m[\u001b[0m\u001b[0mj\u001b[0m\u001b[0;34m]\u001b[0m \u001b[0;34m==\u001b[0m \u001b[0;36m0\u001b[0m\u001b[0;34m)\u001b[0m\u001b[0;34m:\u001b[0m\u001b[0;34m\u001b[0m\u001b[0m\n\u001b[0;32m---> 41\u001b[0;31m             \u001b[0mdfs_bounding\u001b[0m\u001b[0;34m(\u001b[0m\u001b[0mimg\u001b[0m\u001b[0;34m,\u001b[0m \u001b[0mregions\u001b[0m\u001b[0;34m,\u001b[0m \u001b[0mi\u001b[0m\u001b[0;34m,\u001b[0m \u001b[0mj\u001b[0m\u001b[0;34m)\u001b[0m\u001b[0;34m\u001b[0m\u001b[0m\n\u001b[0m\u001b[1;32m     42\u001b[0m             \u001b[0;32mif\u001b[0m\u001b[0;34m(\u001b[0m\u001b[0mcount\u001b[0m \u001b[0;34m<\u001b[0m \u001b[0;36m500\u001b[0m\u001b[0;34m)\u001b[0m\u001b[0;34m:\u001b[0m\u001b[0;34m\u001b[0m\u001b[0m\n\u001b[1;32m     43\u001b[0m                 \u001b[0mdfs_omit\u001b[0m\u001b[0;34m(\u001b[0m\u001b[0mimg\u001b[0m\u001b[0;34m,\u001b[0m \u001b[0mregions\u001b[0m\u001b[0;34m,\u001b[0m \u001b[0mi\u001b[0m\u001b[0;34m,\u001b[0m \u001b[0mj\u001b[0m\u001b[0;34m)\u001b[0m\u001b[0;34m\u001b[0m\u001b[0m\n",
      "\u001b[0;32m<ipython-input-68-d4455b635eb2>\u001b[0m in \u001b[0;36mdfs_bounding\u001b[0;34m(img, regions, i, j)\u001b[0m\n\u001b[1;32m      5\u001b[0m     \u001b[0;32mif\u001b[0m\u001b[0;34m(\u001b[0m\u001b[0mimg\u001b[0m\u001b[0;34m[\u001b[0m\u001b[0mi\u001b[0m\u001b[0;34m]\u001b[0m\u001b[0;34m[\u001b[0m\u001b[0mj\u001b[0m\u001b[0;34m]\u001b[0m \u001b[0;34m==\u001b[0m \u001b[0mimg\u001b[0m\u001b[0;34m[\u001b[0m\u001b[0mi\u001b[0m \u001b[0;34m+\u001b[0m \u001b[0;36m1\u001b[0m\u001b[0;34m]\u001b[0m\u001b[0;34m[\u001b[0m\u001b[0mj\u001b[0m\u001b[0;34m]\u001b[0m\u001b[0;34m)\u001b[0m\u001b[0;34m:\u001b[0m\u001b[0;34m\u001b[0m\u001b[0m\n\u001b[1;32m      6\u001b[0m         \u001b[0mcount\u001b[0m \u001b[0;34m+=\u001b[0m \u001b[0;36m1\u001b[0m\u001b[0;34m\u001b[0m\u001b[0m\n\u001b[0;32m----> 7\u001b[0;31m         \u001b[0mdfs_bounding\u001b[0m\u001b[0;34m(\u001b[0m\u001b[0mimg\u001b[0m\u001b[0;34m,\u001b[0m \u001b[0mregions\u001b[0m\u001b[0;34m,\u001b[0m \u001b[0mi\u001b[0m \u001b[0;34m+\u001b[0m \u001b[0;36m1\u001b[0m\u001b[0;34m,\u001b[0m \u001b[0mj\u001b[0m\u001b[0;34m)\u001b[0m\u001b[0;34m\u001b[0m\u001b[0m\n\u001b[0m\u001b[1;32m      8\u001b[0m     \u001b[0;32mif\u001b[0m\u001b[0;34m(\u001b[0m\u001b[0mimg\u001b[0m\u001b[0;34m[\u001b[0m\u001b[0mi\u001b[0m\u001b[0;34m]\u001b[0m\u001b[0;34m[\u001b[0m\u001b[0mj\u001b[0m\u001b[0;34m]\u001b[0m \u001b[0;34m==\u001b[0m \u001b[0mimg\u001b[0m\u001b[0;34m[\u001b[0m\u001b[0mi\u001b[0m \u001b[0;34m-\u001b[0m \u001b[0;36m1\u001b[0m\u001b[0;34m]\u001b[0m\u001b[0;34m[\u001b[0m\u001b[0mj\u001b[0m\u001b[0;34m]\u001b[0m\u001b[0;34m)\u001b[0m\u001b[0;34m:\u001b[0m\u001b[0;34m\u001b[0m\u001b[0m\n\u001b[1;32m      9\u001b[0m         \u001b[0mcount\u001b[0m \u001b[0;34m+=\u001b[0m \u001b[0;36m1\u001b[0m\u001b[0;34m\u001b[0m\u001b[0m\n",
      "\u001b[0;32m<ipython-input-68-d4455b635eb2>\u001b[0m in \u001b[0;36mdfs_bounding\u001b[0;34m(img, regions, i, j)\u001b[0m\n\u001b[1;32m      5\u001b[0m     \u001b[0;32mif\u001b[0m\u001b[0;34m(\u001b[0m\u001b[0mimg\u001b[0m\u001b[0;34m[\u001b[0m\u001b[0mi\u001b[0m\u001b[0;34m]\u001b[0m\u001b[0;34m[\u001b[0m\u001b[0mj\u001b[0m\u001b[0;34m]\u001b[0m \u001b[0;34m==\u001b[0m \u001b[0mimg\u001b[0m\u001b[0;34m[\u001b[0m\u001b[0mi\u001b[0m \u001b[0;34m+\u001b[0m \u001b[0;36m1\u001b[0m\u001b[0;34m]\u001b[0m\u001b[0;34m[\u001b[0m\u001b[0mj\u001b[0m\u001b[0;34m]\u001b[0m\u001b[0;34m)\u001b[0m\u001b[0;34m:\u001b[0m\u001b[0;34m\u001b[0m\u001b[0m\n\u001b[1;32m      6\u001b[0m         \u001b[0mcount\u001b[0m \u001b[0;34m+=\u001b[0m \u001b[0;36m1\u001b[0m\u001b[0;34m\u001b[0m\u001b[0m\n\u001b[0;32m----> 7\u001b[0;31m         \u001b[0mdfs_bounding\u001b[0m\u001b[0;34m(\u001b[0m\u001b[0mimg\u001b[0m\u001b[0;34m,\u001b[0m \u001b[0mregions\u001b[0m\u001b[0;34m,\u001b[0m \u001b[0mi\u001b[0m \u001b[0;34m+\u001b[0m \u001b[0;36m1\u001b[0m\u001b[0;34m,\u001b[0m \u001b[0mj\u001b[0m\u001b[0;34m)\u001b[0m\u001b[0;34m\u001b[0m\u001b[0m\n\u001b[0m\u001b[1;32m      8\u001b[0m     \u001b[0;32mif\u001b[0m\u001b[0;34m(\u001b[0m\u001b[0mimg\u001b[0m\u001b[0;34m[\u001b[0m\u001b[0mi\u001b[0m\u001b[0;34m]\u001b[0m\u001b[0;34m[\u001b[0m\u001b[0mj\u001b[0m\u001b[0;34m]\u001b[0m \u001b[0;34m==\u001b[0m \u001b[0mimg\u001b[0m\u001b[0;34m[\u001b[0m\u001b[0mi\u001b[0m \u001b[0;34m-\u001b[0m \u001b[0;36m1\u001b[0m\u001b[0;34m]\u001b[0m\u001b[0;34m[\u001b[0m\u001b[0mj\u001b[0m\u001b[0;34m]\u001b[0m\u001b[0;34m)\u001b[0m\u001b[0;34m:\u001b[0m\u001b[0;34m\u001b[0m\u001b[0m\n\u001b[1;32m      9\u001b[0m         \u001b[0mcount\u001b[0m \u001b[0;34m+=\u001b[0m \u001b[0;36m1\u001b[0m\u001b[0;34m\u001b[0m\u001b[0m\n",
      "... last 2 frames repeated, from the frame below ...\n",
      "\u001b[0;32m<ipython-input-68-d4455b635eb2>\u001b[0m in \u001b[0;36mdfs_bounding\u001b[0;34m(img, regions, i, j)\u001b[0m\n\u001b[1;32m      5\u001b[0m     \u001b[0;32mif\u001b[0m\u001b[0;34m(\u001b[0m\u001b[0mimg\u001b[0m\u001b[0;34m[\u001b[0m\u001b[0mi\u001b[0m\u001b[0;34m]\u001b[0m\u001b[0;34m[\u001b[0m\u001b[0mj\u001b[0m\u001b[0;34m]\u001b[0m \u001b[0;34m==\u001b[0m \u001b[0mimg\u001b[0m\u001b[0;34m[\u001b[0m\u001b[0mi\u001b[0m \u001b[0;34m+\u001b[0m \u001b[0;36m1\u001b[0m\u001b[0;34m]\u001b[0m\u001b[0;34m[\u001b[0m\u001b[0mj\u001b[0m\u001b[0;34m]\u001b[0m\u001b[0;34m)\u001b[0m\u001b[0;34m:\u001b[0m\u001b[0;34m\u001b[0m\u001b[0m\n\u001b[1;32m      6\u001b[0m         \u001b[0mcount\u001b[0m \u001b[0;34m+=\u001b[0m \u001b[0;36m1\u001b[0m\u001b[0;34m\u001b[0m\u001b[0m\n\u001b[0;32m----> 7\u001b[0;31m         \u001b[0mdfs_bounding\u001b[0m\u001b[0;34m(\u001b[0m\u001b[0mimg\u001b[0m\u001b[0;34m,\u001b[0m \u001b[0mregions\u001b[0m\u001b[0;34m,\u001b[0m \u001b[0mi\u001b[0m \u001b[0;34m+\u001b[0m \u001b[0;36m1\u001b[0m\u001b[0;34m,\u001b[0m \u001b[0mj\u001b[0m\u001b[0;34m)\u001b[0m\u001b[0;34m\u001b[0m\u001b[0m\n\u001b[0m\u001b[1;32m      8\u001b[0m     \u001b[0;32mif\u001b[0m\u001b[0;34m(\u001b[0m\u001b[0mimg\u001b[0m\u001b[0;34m[\u001b[0m\u001b[0mi\u001b[0m\u001b[0;34m]\u001b[0m\u001b[0;34m[\u001b[0m\u001b[0mj\u001b[0m\u001b[0;34m]\u001b[0m \u001b[0;34m==\u001b[0m \u001b[0mimg\u001b[0m\u001b[0;34m[\u001b[0m\u001b[0mi\u001b[0m \u001b[0;34m-\u001b[0m \u001b[0;36m1\u001b[0m\u001b[0;34m]\u001b[0m\u001b[0;34m[\u001b[0m\u001b[0mj\u001b[0m\u001b[0;34m]\u001b[0m\u001b[0;34m)\u001b[0m\u001b[0;34m:\u001b[0m\u001b[0;34m\u001b[0m\u001b[0m\n\u001b[1;32m      9\u001b[0m         \u001b[0mcount\u001b[0m \u001b[0;34m+=\u001b[0m \u001b[0;36m1\u001b[0m\u001b[0;34m\u001b[0m\u001b[0m\n",
      "\u001b[0;31mRecursionError\u001b[0m: maximum recursion depth exceeded in comparison"
     ]
    }
   ],
   "source": [
    "# dfs\n",
    "global count\n",
    "count = 0\n",
    "def dfs_bounding(img, regions, i, j):\n",
    "    global count \n",
    "    if(img[i][j] == img[i + 1][j]):\n",
    "        count += 1\n",
    "        dfs_bounding(img, regions, i + 1, j)\n",
    "    if(img[i][j] == img[i - 1][j]):\n",
    "        count += 1\n",
    "        dfs_bounding(img, regions, i - 1, j)\n",
    "    if(img[i][j] == img[i][j + 1]):\n",
    "        count += 1\n",
    "        dfs_bounding(img, regions, i, j + 1)\n",
    "    if(img[i][j] == img[i][j - 1]): \n",
    "        count += 1\n",
    "        dfs_bounding(img, regions, i, j - 1)\n",
    "    if(img[i][j] == img[i + 1][j] and img[i][j] == img[i - 1][j] \n",
    "       and img[i][j] == img[i][j + 1] and img[i][j] == img[i][j - 1]):\n",
    "        regions[i][j] = -1\n",
    "    else:\n",
    "        regions = 1\n",
    "def dfs_omit(img, regions, i, j):\n",
    "    regions[i][j] = -1\n",
    "    if(img[i][j] == img[i + 1][j]):\n",
    "        dfs_omit(img, regions, i + 1, j)\n",
    "    if(img[i][j] == img[i - 1][j]):\n",
    "        dfs_omit(img, regions, i - 1, j)\n",
    "    if(img[i][j] == img[i][j + 1]):\n",
    "        dfs_omit(img, regions, i, j + 1)\n",
    "    if(img[i][j] == img[i][j - 1]):\n",
    "        dfs_omit(img, regions, i, j - 1)\n",
    "    \n",
    "img = lena_binarized.copy()\n",
    "regions = np.zeros(img.shape)\n",
    "color_used = [0]\n",
    "print(regions)\n",
    "for i in range(len(img)):\n",
    "    for j in range(len(img[i])):\n",
    "        count = 0\n",
    "        if(regions[i][j] == 0):\n",
    "            dfs_bounding(img, regions, i, j)\n",
    "            if(count < 500):\n",
    "                dfs_omit(img, regions, i, j)\n",
    "print(regions)\n",
    "bounding_box = regions"
   ]
  },
  {
   "cell_type": "code",
   "execution_count": 66,
   "metadata": {},
   "outputs": [],
   "source": [
    "# only bounding\n",
    "img = lena_binarized.copy()\n",
    "regions = np.zeros(img.shape)\n",
    "color = 255\n",
    "for i in range(1, len(img) - 1):\n",
    "    for j in range(1, len(img[i]) - 1):\n",
    "        if((img[i][j] == img[i + 1][j] or img[i][j] == img[i - 1][j] \n",
    "       or img[i][j] == img[i][j + 1] or img[i][j] == img[i][j - 1])\n",
    "          and (not (img[i][j] == img[i + 1][j] and img[i][j] == img[i - 1][j] \n",
    "       and img[i][j] == img[i][j + 1] and img[i][j] == img[i][j - 1]))):\n",
    "            regions[i][j] = color\n",
    "for i in range(1, len(img) - 1):\n",
    "    if((img[i][0] == img[i + 1][0] or img[i][0] == img[i + 1][0] or img[i][0] == img[i][1])\n",
    "      and (not(img[i][0] == img[i + 1][0] and img[i][0] == img[i + 1][0] and img[i][0] == img[i][1]))):\n",
    "        regions[i][0] = color\n",
    "for i in range(1, len(img) - 1):\n",
    "    if((img[i][511] == img[i + 1][511] or img[i][511] == img[i + 1][511] or img[i][511] == img[i][510])\n",
    "      and (not(img[i][511] == img[i + 1][511] and img[i][511] == img[i + 1][511] and img[i][511] == img[i][510]))):\n",
    "        regions[i][511] = color\n",
    "for i in range(1, len(img) - 1):\n",
    "    if((img[0][i] == img[0][i + 1] or img[0][i] == img[0][i + 1] or img[0][i] == img[1][i])\n",
    "      and (not(img[0][i] == img[0][i + 1] and img[0][i] == img[0][i + 1] and img[0][i] == img[1][i]))):\n",
    "        regions[0][i] = color\n",
    "for i in range(1, len(img) - 1):\n",
    "    if((img[511][i] == img[511][i + 1] or img[511][i] == img[511][i + 1] or img[511][i] == img[510][i])\n",
    "      and (not(img[511][i] == img[511][i + 1] and img[511][i] == img[511][i + 1] and img[511][i] == img[510][i]))):\n",
    "        regions[511][i] = color\n",
    "print(regions)\n",
    "regions = regions.astype(int)\n",
    "\n",
    "io.imshow(255 - regions)\n",
    "io.imsave(\"bounding_box.png\", 255 - regions)"
   ]
  },
  {
   "cell_type": "code",
   "execution_count": 121,
   "metadata": {},
   "outputs": [
    {
     "name": "stdout",
     "output_type": "stream",
     "text": [
      "yo\n",
      "[[0. 1. 0. 1.]\n",
      " [0. 1. 0. 1.]\n",
      " [0. 1. 1. 1.]\n",
      " [0. 1. 0. 0.]]\n"
     ]
    }
   ],
   "source": [
    "# using algorithm from http://www.aishack.in/tutorials/labelling-connected-components-example/\n",
    "# classic\n",
    "img = lena_binarized.copy()\n",
    "img = np.array([[0, 255, 0, 255], [0, 255, 0, 255], [0, 255, 255, 255], [0, 255, 0, 0]])\n",
    "regions = np.zeros(img.shape)\n",
    "n = 1\n",
    "wbcolor = 255\n",
    "if(img[0][0] == wbcolor):\n",
    "    regions[0][0] = n\n",
    "    n += 1\n",
    "for i in range(1, len(img)):\n",
    "    if(img[0][i] == wbcolor):\n",
    "        if(regions[0][i - 1] != 0):\n",
    "            regions[0][i] = regions[0][i - 1]\n",
    "        else:\n",
    "            regions[0][i] = n\n",
    "            n += 1\n",
    "for i in range(1, len(img)):\n",
    "    if(img[i][0] == wbcolor):\n",
    "        if(regions[i - 1][0] != 0):\n",
    "            regions[i][0] = regions[i - 1][0]\n",
    "        else:\n",
    "            regions[i][0] = n\n",
    "            n += 1\n",
    "    for j in range(1, len(img)):\n",
    "        if(img[i][j] == wbcolor):\n",
    "            if(regions[i][j - 1] != 0):\n",
    "                regions[i][j] = regions[i][j - 1]\n",
    "            elif(regions[i - 1][j] != 0):\n",
    "                regions[i][j] = regions[i - 1][j]\n",
    "            else:\n",
    "                regions[i][0] = n\n",
    "                n += 1\n",
    "for i in range(1, len(img)):\n",
    "    for j in range(len(img[i]) - 1):\n",
    "        if(regions[i][j] == 0):\n",
    "            continue\n",
    "        if(regions[i][j] < regions[i - 1][j]):\n",
    "            regions[regions == regions[i - 1][j]] = regions[i][j]\n",
    "        elif(regions[i][j] < regions[i][j + 1]):\n",
    "            regions[regions == regions[i][j + 1]] = regions[i][j]\n",
    "for i in range(1, len(img[i])):\n",
    "    if(regions[i][len(img) - 1] == 0):\n",
    "        continue;\n",
    "    if(regions[i][len(img) - 1] < regions[i - 1][len(img) - 1]):\n",
    "        print(\"yo\")\n",
    "        regions[regions == regions[i - 1][len(img) - 1]] = regions[i][len(img) - 1]\n",
    "for i in range(len(img)):\n",
    "    for j in range(len(img[i])):\n",
    "        c = 0\n",
    "        for ii in range(len(img)):\n",
    "            for jj in range(len(img[i])):\n",
    "                if(regions[ii][jj] == regions[i][j]):\n",
    "                    c += 1\n",
    "        # print(c)\n",
    "        if(c < 2):\n",
    "            regions[regions == regions[i][j]] = 0\n",
    "print(regions)\n",
    "# io.imshow(regions.astype(int))\n",
    "# io.imsave(\"test.png\", regions.astype(int))"
   ]
  },
  {
   "cell_type": "code",
   "execution_count": 66,
   "metadata": {},
   "outputs": [
    {
     "name": "stdout",
     "output_type": "stream",
     "text": [
      "[[[226 137 125]\n",
      "  [226 137 125]\n",
      "  [223 137 133]\n",
      "  ...\n",
      "  [230 148 122]\n",
      "  [221 130 110]\n",
      "  [200  99  90]]\n",
      "\n",
      " [[226 137 125]\n",
      "  [226 137 125]\n",
      "  [223 137 133]\n",
      "  ...\n",
      "  [230 148 122]\n",
      "  [221 130 110]\n",
      "  [200  99  90]]\n",
      "\n",
      " [[226 137 125]\n",
      "  [226 137 125]\n",
      "  [223 137 133]\n",
      "  ...\n",
      "  [230 148 122]\n",
      "  [221 130 110]\n",
      "  [200  99  90]]\n",
      "\n",
      " ...\n",
      "\n",
      " [[ 84  18  60]\n",
      "  [ 84  18  60]\n",
      "  [ 92  27  58]\n",
      "  ...\n",
      "  [173  73  84]\n",
      "  [172  68  76]\n",
      "  [177  62  79]]\n",
      "\n",
      " [[ 82  22  57]\n",
      "  [ 82  22  57]\n",
      "  [ 96  32  62]\n",
      "  ...\n",
      "  [179  70  79]\n",
      "  [181  71  81]\n",
      "  [185  74  81]]\n",
      "\n",
      " [[ 82  22  57]\n",
      "  [ 82  22  57]\n",
      "  [ 96  32  62]\n",
      "  ...\n",
      "  [179  70  79]\n",
      "  [181  71  81]\n",
      "  [185  74  81]]]\n"
     ]
    }
   ],
   "source": []
  },
  {
   "cell_type": "code",
   "execution_count": 32,
   "metadata": {},
   "outputs": [
    {
     "name": "stdout",
     "output_type": "stream",
     "text": [
      "[(0, 0)]\n"
     ]
    }
   ],
   "source": []
  },
  {
   "cell_type": "code",
   "execution_count": null,
   "metadata": {},
   "outputs": [],
   "source": []
  }
 ],
 "metadata": {
  "kernelspec": {
   "display_name": "Python 3",
   "language": "python",
   "name": "python3"
  },
  "language_info": {
   "codemirror_mode": {
    "name": "ipython",
    "version": 3
   },
   "file_extension": ".py",
   "mimetype": "text/x-python",
   "name": "python",
   "nbconvert_exporter": "python",
   "pygments_lexer": "ipython3",
   "version": "3.7.0"
  }
 },
 "nbformat": 4,
 "nbformat_minor": 2
}

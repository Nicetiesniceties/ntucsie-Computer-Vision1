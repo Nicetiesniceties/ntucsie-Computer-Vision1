{
 "cells": [
  {
   "cell_type": "code",
   "execution_count": 19,
   "metadata": {},
   "outputs": [],
   "source": [
    "# Read lena.bmp\n",
    "from skimage import io\n",
    "lena = io.imread(\"lena.bmp\")\n",
    "# io.imshow(lena)\n",
    "height = len(lena)\n",
    "width = len(lena[0])"
   ]
  },
  {
   "cell_type": "code",
   "execution_count": 27,
   "metadata": {},
   "outputs": [
    {
     "name": "stderr",
     "output_type": "stream",
     "text": [
      "/usr/local/lib/python3.7/site-packages/skimage/io/_io.py:140: UserWarning: lena_Gaul30.png is a low contrast image\n",
      "  warn('%s is a low contrast image' % fname)\n",
      "/usr/local/lib/python3.7/site-packages/skimage/io/_io.py:140: UserWarning: lena_Gaul10.png is a low contrast image\n",
      "  warn('%s is a low contrast image' % fname)\n",
      "/usr/local/lib/python3.7/site-packages/skimage/io/_io.py:140: UserWarning: lena_Salt005.png is a low contrast image\n",
      "  warn('%s is a low contrast image' % fname)\n",
      "/usr/local/lib/python3.7/site-packages/skimage/io/_io.py:140: UserWarning: lena_Salt01.png is a low contrast image\n",
      "  warn('%s is a low contrast image' % fname)\n"
     ]
    }
   ],
   "source": [
    "# start noising\n",
    "import numpy as np\n",
    "grayImg = lena.copy()\n",
    "img_Gaul10 = np.zeros(grayImg.shape, dtype=int)\n",
    "img_Gaul30 = np.zeros(grayImg.shape, dtype=int)\n",
    "img_Salt005 = np.zeros(grayImg.shape, dtype=int)\n",
    "img_Salt01 = np.zeros(grayImg.shape, dtype=int)\n",
    "\n",
    "for i in range(height):\n",
    "    for j in range(width):\n",
    "        img_Gaul10[i, j] = grayImg[i, j] + 10 * np.random.normal(0.0, 1.0, None)\n",
    "        img_Gaul30[i, j] = grayImg[i, j] + 30 * np.random.normal(0.0, 1.0, None)\n",
    "        if(np.random.uniform(0., 1., None) < 0.05):\n",
    "            img_Salt005[i, j] = 0\n",
    "        elif(np.random.uniform(0., 1., None) > 1 - 0.05):\n",
    "            img_Salt005[i, j] = 255\n",
    "        else:\n",
    "            img_Salt005[i, j] = grayImg[i, j]\n",
    "        if(np.random.uniform(0., 1., None) < 0.1):\n",
    "            img_Salt01[i, j] = 0\n",
    "        elif(np.random.uniform(0., 1., None) > 1 - 0.1):\n",
    "            img_Salt01[i, j] = 255\n",
    "        else:\n",
    "            img_Salt01[i, j] = grayImg[i, j]\n",
    "img_Gaul10 = np.clip(img_Gaul10, 0, 255)\n",
    "img_Gaul30 = np.clip(img_Gaul30, 0, 255)\n",
    "io.imsave(\"lena_Gaul30.png\", img_Gaul30)\n",
    "io.imsave(\"lena_Gaul10.png\", img_Gaul10)\n",
    "io.imsave(\"lena_Salt005.png\", img_Salt005)\n",
    "io.imsave(\"lena_Salt01.png\", img_Salt01)\n",
    "# io.imshow(img_Gaul30)"
   ]
  },
  {
   "cell_type": "code",
   "execution_count": 69,
   "metadata": {},
   "outputs": [
    {
     "name": "stdout",
     "output_type": "stream",
     "text": [
      "512 512\n"
     ]
    },
    {
     "data": {
      "application/vnd.jupyter.widget-view+json": {
       "model_id": "7ecd4c19f6944a389382fefcc43192a2",
       "version_major": 2,
       "version_minor": 0
      },
      "text/plain": [
       "HBox(children=(IntProgress(value=0, max=512), HTML(value='')))"
      ]
     },
     "metadata": {},
     "output_type": "display_data"
    },
    {
     "name": "stderr",
     "output_type": "stream",
     "text": [
      "/usr/local/lib/python3.7/site-packages/skimage/io/_io.py:140: UserWarning: box_filter5X5_on_Salt01.png is a low contrast image\n",
      "  warn('%s is a low contrast image' % fname)\n"
     ]
    }
   ],
   "source": [
    "from tqdm import tqdm_notebook as tqdm\n",
    "filter33 = np.array([[1, 1], [0, 0], [1, 0], [0, 1], [-1, -1], [-1, 0], [0, -1], [-1, 1], [1, -1]] )\n",
    "filter55 = np.array([[1, 1], [0, 0], [1, 0], [0, 1], [-1, -1], [-1, 0], [0, -1], [-1, 1], [1, -1], \n",
    "            [1, 2], [1, -2], [0, 2], [0, -2], [-1, 2], [-1, -2], [2, 2], [2, -2], [-2, 2], [-2, -2], \n",
    "            [-2, -1], [-2, 1], [-2, 0], [2, 0], [2, -1], [2, 1]] )\n",
    "# box filter\n",
    "print(height, width)\n",
    "def box_filter(img, filterxx):\n",
    "    temp = img.copy()\n",
    "    for i in tqdm(range(height)):\n",
    "        for j in range(width):\n",
    "            filter_applied = [i, j] + filterxx\n",
    "            # print(filter_applied)\n",
    "            SUM = 0\n",
    "            count = 0\n",
    "            out_of_range = False\n",
    "            for x, y in filter_applied:\n",
    "                if((x in range(0, height)) and (y in range(0, width))):\n",
    "                    SUM += temp[x][y]\n",
    "                    count += 1\n",
    "                else:\n",
    "                    out_of_range = True\n",
    "                    break\n",
    "            if not out_of_range:\n",
    "                temp[i][j] = SUM / count\n",
    "    return temp\n",
    "io.imsave(\"box_filter3X3_on_Gaul10.png\", box_filter(img_Gaul10, filter33))\n",
    "io.imsave(\"box_filter3X3_on_Gaul30.png\", box_filter(img_Gaul30, filter33))\n",
    "io.imsave(\"box_filter3X3_on_Salt005.png\", box_filter(img_Salt005, filter33))\n",
    "io.imsave(\"box_filter3X3_on_Salt01.png\", box_filter(img_Salt01, filter33))\n",
    "\n",
    "io.imsave(\"box_filter5X5_on_Gaul10.png\", box_filter(img_Gaul10, filter55))\n",
    "io.imsave(\"box_filter5X5_on_Gaul30.png\", box_filter(img_Gaul30, filter55))\n",
    "io.imsave(\"box_filter5X5_on_Salt005.png\", box_filter(img_Salt005, filter55))\n",
    "io.imsave(\"box_filter5X5_on_Salt01.png\", box_filter(img_Salt01, filter55))"
   ]
  },
  {
   "cell_type": "code",
   "execution_count": null,
   "metadata": {},
   "outputs": [
    {
     "data": {
      "application/vnd.jupyter.widget-view+json": {
       "model_id": "49d7691bdf7249daa7fec2d95fe983e7",
       "version_major": 2,
       "version_minor": 0
      },
      "text/plain": [
       "HBox(children=(IntProgress(value=0, max=512), HTML(value='')))"
      ]
     },
     "metadata": {},
     "output_type": "display_data"
    },
    {
     "name": "stderr",
     "output_type": "stream",
     "text": [
      "/usr/local/lib/python3.7/site-packages/skimage/io/_io.py:140: UserWarning: median_filter3X3_on_Gaul10.png is a low contrast image\n",
      "  warn('%s is a low contrast image' % fname)\n"
     ]
    },
    {
     "data": {
      "application/vnd.jupyter.widget-view+json": {
       "model_id": "5b8e5fc2b76f48979fc8e106122bcb74",
       "version_major": 2,
       "version_minor": 0
      },
      "text/plain": [
       "HBox(children=(IntProgress(value=0, max=512), HTML(value='')))"
      ]
     },
     "metadata": {},
     "output_type": "display_data"
    },
    {
     "name": "stderr",
     "output_type": "stream",
     "text": [
      "/usr/local/lib/python3.7/site-packages/skimage/io/_io.py:140: UserWarning: median_filter3X3_on_Gaul30.png is a low contrast image\n",
      "  warn('%s is a low contrast image' % fname)\n"
     ]
    },
    {
     "data": {
      "application/vnd.jupyter.widget-view+json": {
       "model_id": "dc5260e8681f44a9b7b9649949be9f5f",
       "version_major": 2,
       "version_minor": 0
      },
      "text/plain": [
       "HBox(children=(IntProgress(value=0, max=512), HTML(value='')))"
      ]
     },
     "metadata": {},
     "output_type": "display_data"
    },
    {
     "name": "stderr",
     "output_type": "stream",
     "text": [
      "/usr/local/lib/python3.7/site-packages/skimage/io/_io.py:140: UserWarning: median_filter3X3_on_Salt005.png is a low contrast image\n",
      "  warn('%s is a low contrast image' % fname)\n"
     ]
    },
    {
     "data": {
      "application/vnd.jupyter.widget-view+json": {
       "model_id": "be4b5a656dd640eaaec797f89922aaa7",
       "version_major": 2,
       "version_minor": 0
      },
      "text/plain": [
       "HBox(children=(IntProgress(value=0, max=512), HTML(value='')))"
      ]
     },
     "metadata": {},
     "output_type": "display_data"
    },
    {
     "name": "stderr",
     "output_type": "stream",
     "text": [
      "/usr/local/lib/python3.7/site-packages/skimage/io/_io.py:140: UserWarning: median_filter3X3_on_Salt01.png is a low contrast image\n",
      "  warn('%s is a low contrast image' % fname)\n"
     ]
    },
    {
     "data": {
      "application/vnd.jupyter.widget-view+json": {
       "model_id": "40037624ad054f379ef2c5be4f5c378e",
       "version_major": 2,
       "version_minor": 0
      },
      "text/plain": [
       "HBox(children=(IntProgress(value=0, max=512), HTML(value='')))"
      ]
     },
     "metadata": {},
     "output_type": "display_data"
    }
   ],
   "source": [
    "def median(x):\n",
    "    x = sorted(x)\n",
    "    listlength = len(x) \n",
    "    num = round(listlength / 2)\n",
    "    middlenum = x[num]\n",
    "    return middlenum\n",
    "# median filter\n",
    "def median_filter(img, filterxx):\n",
    "    temp = img.copy()\n",
    "    for i in tqdm(range(height)):\n",
    "        for j in range(width):\n",
    "            filter_applied = [i, j] + filterxx\n",
    "            # print(filter_applied)\n",
    "            SUM = []\n",
    "            out_of_range = False\n",
    "            for x, y in filter_applied:\n",
    "                if((x in range(0, height)) and (y in range(0, width))):\n",
    "                    SUM.append(temp[x][y])\n",
    "                else:\n",
    "                    out_of_range = True\n",
    "                    break\n",
    "            if not out_of_range:\n",
    "                temp[i][j] = int(median(SUM))\n",
    "    return temp\n",
    "io.imsave(\"median_filter3X3_on_Gaul10.png\", median_filter(img_Gaul10, filter33))\n",
    "io.imsave(\"median_filter3X3_on_Gaul30.png\", median_filter(img_Gaul30, filter33))\n",
    "io.imsave(\"median_filter3X3_on_Salt005.png\", median_filter(img_Salt005, filter33))\n",
    "io.imsave(\"median_filter3X3_on_Salt01.png\", median_filter(img_Salt01, filter33))\n",
    "\n",
    "io.imsave(\"median_filter5X5_on_Gaul10.png\", median_filter(img_Gaul10, filter55))\n",
    "io.imsave(\"median_filter5X5_on_Gaul30.png\", median_filter(img_Gaul30, filter55))\n",
    "io.imsave(\"median_filter5X5_on_Salt005.png\", median_filter(img_Salt005, filter55))\n",
    "io.imsave(\"median_filter5X5_on_Salt01.png\", median_filter(img_Salt01, filter55))"
   ]
  },
  {
   "cell_type": "code",
   "execution_count": null,
   "metadata": {},
   "outputs": [],
   "source": [
    "def blank_image(height, width):\n",
    "\treturn np.array([[0 for i in range(width)] for j in range(height)])\n",
    "def dilation(img, kernel):\n",
    "\tprint(\"---dilation start---\")\n",
    "\treturn_img = blank_image(height, width)\n",
    "\tfor i in tqdm(range(height)):\n",
    "\t\tfor j in range(width):\n",
    "\t\t\ttemp_max = 0\n",
    "\t\t\tfor x, y in kernel:\n",
    "\t\t\t\tif((i - x) in range(0, width) and (j - y) in range(0, height)):\n",
    "\t\t\t\t\ttemp = img[i - x][j - y] + kernel_value(x, y)\n",
    "\t\t\t\t\tif(temp >= temp_max):\n",
    "\t\t\t\t\t\ttemp_max = temp\n",
    "\t\t\treturn_img[i][j] = temp_max\n",
    "\tprint(\"---dilation end---\")\n",
    "\treturn(return_img)\n",
    "def erosion(img, kernel):\n",
    "\treturn_img = blank_image(height, width)\n",
    "\tprint(\"---erosion start---\")\n",
    "\tfor i in tqdm(range(height)):\n",
    "\t\tfor j in range(width):\n",
    "\t\t\ttemp_min = 255\n",
    "\t\t\tfor x, y in kernel:\n",
    "\t\t\t\tif((i + x) in range(0, width) and (j + y) in range(0, height)):\n",
    "\t\t\t\t\ttemp = img[i + x][j + y] - kernel_value(x, y)\n",
    "\t\t\t\t\tif(temp <= temp_min):\n",
    "\t\t\t\t\t\ttemp_min = temp\n",
    "\t\t\treturn_img[i][j] = temp_min\n",
    "\tprint(\"---erosion end---\")\n",
    "\treturn return_img\n",
    "def opening(img, kernel):\n",
    "\ttemp = erosion(img, kernel)\n",
    "\ttemp = dilation(temp, kernel)\n",
    "\treturn temp\n",
    "def closing(img, kernel):\n",
    "\ttemp = dilation(img, kernel)\n",
    "\ttemp = erosion(temp, kernel)\n",
    "\treturn temp\n",
    "def opening_then_closing(img, kernel):\n",
    "    temp = opening(img, kernel)\n",
    "    temp = closing(img, kernel)\n",
    "    return temp\n",
    "def closing_then_opening(img, kernel):\n",
    "    temp = closing(img, kernel)\n",
    "    temp = opening(img, kernel)\n",
    "    return temp\n",
    "def kernel_value(x, y):\n",
    "\t# for this task, the kernel values are always 0\n",
    "\treturn 0\n",
    "\n",
    "\n",
    "# In[16]:\n",
    "\n",
    "\n",
    "import numpy as np\n",
    "kernel = np.array([  [0, 0], [0, 1], [0, 2], [0, -1], [0, -2], [1, 0], \n",
    "\t\t  [1, 1], [1, 2], [1, -1], [1, -2],  [-1, 0], [-1, 1], \n",
    "\t\t  [-1, 2], [-1, -1], [-1, -2], [2, 0], [2, 1], [2, -1],  \n",
    "\t\t  [-2, 0], [-2, 1], [-2, -1] ])\n",
    "\n",
    "io.imsave(\"opening_then_closing_on_Gaul10.png\", opening_then_closing(img_Gaul10, kernel))\n",
    "io.imsave(\"opening_then_closing_on_Gaul30.png\", opening_then_closing(img_Gaul30, kernel))\n",
    "io.imsave(\"opening_then_closing_on_Salt005.png\", opening_then_closing(img_Salt005, kernel))\n",
    "io.imsave(\"opening_then_closing_on_Salt01.png\", opening_then_closing(img_Salt01, kernel))\n",
    "\n",
    "io.imsave(\"closing_then_opening_on_Gaul10.png\", closing_then_opening(img_Gaul10, kernel))\n",
    "io.imsave(\"closing_then_opening_on_Gaul30.png\", closing_then_opening(img_Gaul30, kernel))\n",
    "io.imsave(\"closing_then_opening_on_Salt005.png\", closing_then_opening(img_Salt005, kernel))\n",
    "io.imsave(\"closing_then_opening_on_Salt01.png\", closing_then_opening(img_Salt01, kernel))"
   ]
  },
  {
   "cell_type": "code",
   "execution_count": null,
   "metadata": {},
   "outputs": [],
   "source": []
  }
 ],
 "metadata": {
  "kernelspec": {
   "display_name": "Python 3",
   "language": "python",
   "name": "python3"
  },
  "language_info": {
   "codemirror_mode": {
    "name": "ipython",
    "version": 3
   },
   "file_extension": ".py",
   "mimetype": "text/x-python",
   "name": "python",
   "nbconvert_exporter": "python",
   "pygments_lexer": "ipython3",
   "version": "3.7.0"
  }
 },
 "nbformat": 4,
 "nbformat_minor": 2
}

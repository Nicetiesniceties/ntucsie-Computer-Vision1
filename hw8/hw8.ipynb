{
 "cells": [
  {
   "cell_type": "code",
   "execution_count": 19,
   "metadata": {},
   "outputs": [],
   "source": [
    "# Read lena.bmp\n",
    "from skimage import io\n",
    "lena = io.imread(\"lena.bmp\")\n",
    "# io.imshow(lena)\n",
    "height = len(lena)\n",
    "width = len(lena[0])"
   ]
  },
  {
   "cell_type": "code",
   "execution_count": 27,
   "metadata": {},
   "outputs": [
    {
     "name": "stderr",
     "output_type": "stream",
     "text": [
      "/usr/local/lib/python3.7/site-packages/skimage/io/_io.py:140: UserWarning: lena_Gaul30.png is a low contrast image\n",
      "  warn('%s is a low contrast image' % fname)\n",
      "/usr/local/lib/python3.7/site-packages/skimage/io/_io.py:140: UserWarning: lena_Gaul10.png is a low contrast image\n",
      "  warn('%s is a low contrast image' % fname)\n",
      "/usr/local/lib/python3.7/site-packages/skimage/io/_io.py:140: UserWarning: lena_Salt005.png is a low contrast image\n",
      "  warn('%s is a low contrast image' % fname)\n",
      "/usr/local/lib/python3.7/site-packages/skimage/io/_io.py:140: UserWarning: lena_Salt01.png is a low contrast image\n",
      "  warn('%s is a low contrast image' % fname)\n"
     ]
    }
   ],
   "source": [
    "# start noising\n",
    "import numpy as np\n",
    "grayImg = lena.copy()\n",
    "img_Gaul10 = np.zeros(grayImg.shape, dtype=int)\n",
    "img_Gaul30 = np.zeros(grayImg.shape, dtype=int)\n",
    "img_Salt005 = np.zeros(grayImg.shape, dtype=int)\n",
    "img_Salt01 = np.zeros(grayImg.shape, dtype=int)\n",
    "\n",
    "for i in range(height):\n",
    "    for j in range(width):\n",
    "        img_Gaul10[i, j] = grayImg[i, j] + 10 * np.random.normal(0.0, 1.0, None)\n",
    "        img_Gaul30[i, j] = grayImg[i, j] + 30 * np.random.normal(0.0, 1.0, None)\n",
    "        if(np.random.uniform(0., 1., None) < 0.05):\n",
    "            img_Salt005[i, j] = 0\n",
    "        elif(np.random.uniform(0., 1., None) > 1 - 0.05):\n",
    "            img_Salt005[i, j] = 255\n",
    "        else:\n",
    "            img_Salt005[i, j] = grayImg[i, j]\n",
    "        if(np.random.uniform(0., 1., None) < 0.1):\n",
    "            img_Salt01[i, j] = 0\n",
    "        elif(np.random.uniform(0., 1., None) > 1 - 0.1):\n",
    "            img_Salt01[i, j] = 255\n",
    "        else:\n",
    "            img_Salt01[i, j] = grayImg[i, j]\n",
    "img_Gaul10 = np.clip(img_Gaul10, 0, 255)\n",
    "img_Gaul30 = np.clip(img_Gaul30, 0, 255)\n",
    "io.imsave(\"lena_Gaul30.png\", img_Gaul30)\n",
    "io.imsave(\"lena_Gaul10.png\", img_Gaul10)\n",
    "io.imsave(\"lena_Salt005.png\", img_Salt005)\n",
    "io.imsave(\"lena_Salt01.png\", img_Salt01)\n",
    "# io.imshow(img_Gaul30)"
   ]
  },
  {
   "cell_type": "code",
   "execution_count": 69,
   "metadata": {},
   "outputs": [
    {
     "name": "stdout",
     "output_type": "stream",
     "text": [
      "512 512\n"
     ]
    },
    {
     "data": {
      "application/vnd.jupyter.widget-view+json": {
       "model_id": "7ecd4c19f6944a389382fefcc43192a2",
       "version_major": 2,
       "version_minor": 0
      },
      "text/plain": [
       "HBox(children=(IntProgress(value=0, max=512), HTML(value='')))"
      ]
     },
     "metadata": {},
     "output_type": "display_data"
    },
    {
     "name": "stderr",
     "output_type": "stream",
     "text": [
      "/usr/local/lib/python3.7/site-packages/skimage/io/_io.py:140: UserWarning: box_filter5X5_on_Salt01.png is a low contrast image\n",
      "  warn('%s is a low contrast image' % fname)\n"
     ]
    }
   ],
   "source": [
    "from tqdm import tqdm_notebook as tqdm\n",
    "filter33 = np.array([[1, 1], [0, 0], [1, 0], [0, 1], [-1, -1], [-1, 0], [0, -1], [-1, 1], [1, -1]] )\n",
    "filter55 = np.array([[1, 1], [0, 0], [1, 0], [0, 1], [-1, -1], [-1, 0], [0, -1], [-1, 1], [1, -1], \n",
    "            [1, 2], [1, -2], [0, 2], [0, -2], [-1, 2], [-1, -2], [2, 2], [2, -2], [-2, 2], [-2, -2], \n",
    "            [-2, -1], [-2, 1], [-2, 0], [2, 0], [2, -1], [2, 1]] )\n",
    "# box filter\n",
    "print(height, width)\n",
    "def box_filter(img, filterxx):\n",
    "    temp = img.copy()\n",
    "    for i in tqdm(range(height)):\n",
    "        for j in range(width):\n",
    "            filter_applied = [i, j] + filterxx\n",
    "            # print(filter_applied)\n",
    "            SUM = 0\n",
    "            count = 0\n",
    "            out_of_range = False\n",
    "            for x, y in filter_applied:\n",
    "                if((x in range(0, height)) and (y in range(0, width))):\n",
    "                    SUM += temp[x][y]\n",
    "                    count += 1\n",
    "                else:\n",
    "                    out_of_range = True\n",
    "                    break\n",
    "            if not out_of_range:\n",
    "                temp[i][j] = SUM / count\n",
    "    return temp\n",
    "io.imsave(\"box_filter3X3_on_Gaul10.png\", box_filter(img_Gaul10, filter33))\n",
    "io.imsave(\"box_filter3X3_on_Gaul30.png\", box_filter(img_Gaul30, filter33))\n",
    "io.imsave(\"box_filter3X3_on_Salt005.png\", box_filter(img_Salt005, filter33))\n",
    "io.imsave(\"box_filter3X3_on_Salt01.png\", box_filter(img_Salt01, filter33))\n",
    "\n",
    "io.imsave(\"box_filter5X5_on_Gaul10.png\", box_filter(img_Gaul10, filter55))\n",
    "io.imsave(\"box_filter5X5_on_Gaul30.png\", box_filter(img_Gaul30, filter55))\n",
    "io.imsave(\"box_filter5X5_on_Salt005.png\", box_filter(img_Salt005, filter55))\n",
    "io.imsave(\"box_filter5X5_on_Salt01.png\", box_filter(img_Salt01, filter55))"
   ]
  },
  {
   "cell_type": "code",
   "execution_count": 70,
   "metadata": {},
   "outputs": [
    {
     "data": {
      "application/vnd.jupyter.widget-view+json": {
       "model_id": "49d7691bdf7249daa7fec2d95fe983e7",
       "version_major": 2,
       "version_minor": 0
      },
      "text/plain": [
       "HBox(children=(IntProgress(value=0, max=512), HTML(value='')))"
      ]
     },
     "metadata": {},
     "output_type": "display_data"
    },
    {
     "name": "stderr",
     "output_type": "stream",
     "text": [
      "/usr/local/lib/python3.7/site-packages/skimage/io/_io.py:140: UserWarning: median_filter3X3_on_Gaul10.png is a low contrast image\n",
      "  warn('%s is a low contrast image' % fname)\n"
     ]
    },
    {
     "data": {
      "application/vnd.jupyter.widget-view+json": {
       "model_id": "5b8e5fc2b76f48979fc8e106122bcb74",
       "version_major": 2,
       "version_minor": 0
      },
      "text/plain": [
       "HBox(children=(IntProgress(value=0, max=512), HTML(value='')))"
      ]
     },
     "metadata": {},
     "output_type": "display_data"
    },
    {
     "name": "stderr",
     "output_type": "stream",
     "text": [
      "/usr/local/lib/python3.7/site-packages/skimage/io/_io.py:140: UserWarning: median_filter3X3_on_Gaul30.png is a low contrast image\n",
      "  warn('%s is a low contrast image' % fname)\n"
     ]
    },
    {
     "data": {
      "application/vnd.jupyter.widget-view+json": {
       "model_id": "dc5260e8681f44a9b7b9649949be9f5f",
       "version_major": 2,
       "version_minor": 0
      },
      "text/plain": [
       "HBox(children=(IntProgress(value=0, max=512), HTML(value='')))"
      ]
     },
     "metadata": {},
     "output_type": "display_data"
    },
    {
     "name": "stderr",
     "output_type": "stream",
     "text": [
      "/usr/local/lib/python3.7/site-packages/skimage/io/_io.py:140: UserWarning: median_filter3X3_on_Salt005.png is a low contrast image\n",
      "  warn('%s is a low contrast image' % fname)\n"
     ]
    },
    {
     "data": {
      "application/vnd.jupyter.widget-view+json": {
       "model_id": "be4b5a656dd640eaaec797f89922aaa7",
       "version_major": 2,
       "version_minor": 0
      },
      "text/plain": [
       "HBox(children=(IntProgress(value=0, max=512), HTML(value='')))"
      ]
     },
     "metadata": {},
     "output_type": "display_data"
    },
    {
     "name": "stderr",
     "output_type": "stream",
     "text": [
      "/usr/local/lib/python3.7/site-packages/skimage/io/_io.py:140: UserWarning: median_filter3X3_on_Salt01.png is a low contrast image\n",
      "  warn('%s is a low contrast image' % fname)\n"
     ]
    },
    {
     "data": {
      "application/vnd.jupyter.widget-view+json": {
       "model_id": "40037624ad054f379ef2c5be4f5c378e",
       "version_major": 2,
       "version_minor": 0
      },
      "text/plain": [
       "HBox(children=(IntProgress(value=0, max=512), HTML(value='')))"
      ]
     },
     "metadata": {},
     "output_type": "display_data"
    },
    {
     "name": "stderr",
     "output_type": "stream",
     "text": [
      "/usr/local/lib/python3.7/site-packages/skimage/io/_io.py:140: UserWarning: median_filter5X5_on_Gaul10.png is a low contrast image\n",
      "  warn('%s is a low contrast image' % fname)\n"
     ]
    },
    {
     "data": {
      "application/vnd.jupyter.widget-view+json": {
       "model_id": "023ce474e2f54a8eb0877ac2fd15e3cc",
       "version_major": 2,
       "version_minor": 0
      },
      "text/plain": [
       "HBox(children=(IntProgress(value=0, max=512), HTML(value='')))"
      ]
     },
     "metadata": {},
     "output_type": "display_data"
    },
    {
     "name": "stderr",
     "output_type": "stream",
     "text": [
      "/usr/local/lib/python3.7/site-packages/skimage/io/_io.py:140: UserWarning: median_filter5X5_on_Gaul30.png is a low contrast image\n",
      "  warn('%s is a low contrast image' % fname)\n"
     ]
    },
    {
     "data": {
      "application/vnd.jupyter.widget-view+json": {
       "model_id": "2885c98b43e44d34bdfd8ee0d3a5b193",
       "version_major": 2,
       "version_minor": 0
      },
      "text/plain": [
       "HBox(children=(IntProgress(value=0, max=512), HTML(value='')))"
      ]
     },
     "metadata": {},
     "output_type": "display_data"
    },
    {
     "name": "stderr",
     "output_type": "stream",
     "text": [
      "/usr/local/lib/python3.7/site-packages/skimage/io/_io.py:140: UserWarning: median_filter5X5_on_Salt005.png is a low contrast image\n",
      "  warn('%s is a low contrast image' % fname)\n"
     ]
    },
    {
     "data": {
      "application/vnd.jupyter.widget-view+json": {
       "model_id": "541cfab87d1a4c25b7264f5553770c06",
       "version_major": 2,
       "version_minor": 0
      },
      "text/plain": [
       "HBox(children=(IntProgress(value=0, max=512), HTML(value='')))"
      ]
     },
     "metadata": {},
     "output_type": "display_data"
    },
    {
     "name": "stderr",
     "output_type": "stream",
     "text": [
      "/usr/local/lib/python3.7/site-packages/skimage/io/_io.py:140: UserWarning: median_filter5X5_on_Salt01.png is a low contrast image\n",
      "  warn('%s is a low contrast image' % fname)\n"
     ]
    }
   ],
   "source": [
    "def median(x):\n",
    "    x = sorted(x)\n",
    "    listlength = len(x) \n",
    "    num = round(listlength / 2)\n",
    "    middlenum = x[num]\n",
    "    return middlenum\n",
    "# median filter\n",
    "def median_filter(img, filterxx):\n",
    "    temp = img.copy()\n",
    "    for i in tqdm(range(height)):\n",
    "        for j in range(width):\n",
    "            filter_applied = [i, j] + filterxx\n",
    "            # print(filter_applied)\n",
    "            SUM = []\n",
    "            out_of_range = False\n",
    "            for x, y in filter_applied:\n",
    "                if((x in range(0, height)) and (y in range(0, width))):\n",
    "                    SUM.append(temp[x][y])\n",
    "                else:\n",
    "                    out_of_range = True\n",
    "                    break\n",
    "            if not out_of_range:\n",
    "                temp[i][j] = int(median(SUM))\n",
    "    return temp\n",
    "io.imsave(\"median_filter3X3_on_Gaul10.png\", median_filter(img_Gaul10, filter33))\n",
    "io.imsave(\"median_filter3X3_on_Gaul30.png\", median_filter(img_Gaul30, filter33))\n",
    "io.imsave(\"median_filter3X3_on_Salt005.png\", median_filter(img_Salt005, filter33))\n",
    "io.imsave(\"median_filter3X3_on_Salt01.png\", median_filter(img_Salt01, filter33))\n",
    "\n",
    "io.imsave(\"median_filter5X5_on_Gaul10.png\", median_filter(img_Gaul10, filter55))\n",
    "io.imsave(\"median_filter5X5_on_Gaul30.png\", median_filter(img_Gaul30, filter55))\n",
    "io.imsave(\"median_filter5X5_on_Salt005.png\", median_filter(img_Salt005, filter55))\n",
    "io.imsave(\"median_filter5X5_on_Salt01.png\", median_filter(img_Salt01, filter55))"
   ]
  },
  {
   "cell_type": "code",
   "execution_count": 71,
   "metadata": {},
   "outputs": [
    {
     "name": "stdout",
     "output_type": "stream",
     "text": [
      "---erosion start---\n"
     ]
    },
    {
     "data": {
      "application/vnd.jupyter.widget-view+json": {
       "model_id": "60a737b4f2a344fd94037f23bd8fd732",
       "version_major": 2,
       "version_minor": 0
      },
      "text/plain": [
       "HBox(children=(IntProgress(value=0, max=512), HTML(value='')))"
      ]
     },
     "metadata": {},
     "output_type": "display_data"
    },
    {
     "name": "stdout",
     "output_type": "stream",
     "text": [
      "---erosion end---\n",
      "---dilation start---\n"
     ]
    },
    {
     "data": {
      "application/vnd.jupyter.widget-view+json": {
       "model_id": "962cbf5e47a944f59a1d17721211ce6c",
       "version_major": 2,
       "version_minor": 0
      },
      "text/plain": [
       "HBox(children=(IntProgress(value=0, max=512), HTML(value='')))"
      ]
     },
     "metadata": {},
     "output_type": "display_data"
    },
    {
     "name": "stdout",
     "output_type": "stream",
     "text": [
      "---dilation end---\n",
      "---dilation start---\n"
     ]
    },
    {
     "data": {
      "application/vnd.jupyter.widget-view+json": {
       "model_id": "d149e081e5ef4fe9a6c6c08ef8eb9922",
       "version_major": 2,
       "version_minor": 0
      },
      "text/plain": [
       "HBox(children=(IntProgress(value=0, max=512), HTML(value='')))"
      ]
     },
     "metadata": {},
     "output_type": "display_data"
    },
    {
     "name": "stdout",
     "output_type": "stream",
     "text": [
      "---dilation end---\n",
      "---erosion start---\n"
     ]
    },
    {
     "data": {
      "application/vnd.jupyter.widget-view+json": {
       "model_id": "e8a85eeb7b7e46c58e98b3a46b0b0561",
       "version_major": 2,
       "version_minor": 0
      },
      "text/plain": [
       "HBox(children=(IntProgress(value=0, max=512), HTML(value='')))"
      ]
     },
     "metadata": {},
     "output_type": "display_data"
    },
    {
     "name": "stdout",
     "output_type": "stream",
     "text": [
      "---erosion end---\n",
      "---erosion start---\n"
     ]
    },
    {
     "name": "stderr",
     "output_type": "stream",
     "text": [
      "/usr/local/lib/python3.7/site-packages/skimage/io/_io.py:140: UserWarning: opening_then_closing_on_Gaul10.png is a low contrast image\n",
      "  warn('%s is a low contrast image' % fname)\n"
     ]
    },
    {
     "data": {
      "application/vnd.jupyter.widget-view+json": {
       "model_id": "ca2d5fd572ed43b6a8832cfd977f521a",
       "version_major": 2,
       "version_minor": 0
      },
      "text/plain": [
       "HBox(children=(IntProgress(value=0, max=512), HTML(value='')))"
      ]
     },
     "metadata": {},
     "output_type": "display_data"
    },
    {
     "name": "stdout",
     "output_type": "stream",
     "text": [
      "---erosion end---\n",
      "---dilation start---\n"
     ]
    },
    {
     "data": {
      "application/vnd.jupyter.widget-view+json": {
       "model_id": "d1a3f80c8821433b8d99991a808fdb85",
       "version_major": 2,
       "version_minor": 0
      },
      "text/plain": [
       "HBox(children=(IntProgress(value=0, max=512), HTML(value='')))"
      ]
     },
     "metadata": {},
     "output_type": "display_data"
    },
    {
     "name": "stdout",
     "output_type": "stream",
     "text": [
      "---dilation end---\n",
      "---dilation start---\n"
     ]
    },
    {
     "data": {
      "application/vnd.jupyter.widget-view+json": {
       "model_id": "6a58723db67c47e0a195b7cd0c894a1c",
       "version_major": 2,
       "version_minor": 0
      },
      "text/plain": [
       "HBox(children=(IntProgress(value=0, max=512), HTML(value='')))"
      ]
     },
     "metadata": {},
     "output_type": "display_data"
    },
    {
     "name": "stdout",
     "output_type": "stream",
     "text": [
      "---dilation end---\n",
      "---erosion start---\n"
     ]
    },
    {
     "data": {
      "application/vnd.jupyter.widget-view+json": {
       "model_id": "18b6e88c1a334dc4a92625f27b82ad79",
       "version_major": 2,
       "version_minor": 0
      },
      "text/plain": [
       "HBox(children=(IntProgress(value=0, max=512), HTML(value='')))"
      ]
     },
     "metadata": {},
     "output_type": "display_data"
    },
    {
     "name": "stdout",
     "output_type": "stream",
     "text": [
      "---erosion end---\n",
      "---erosion start---\n"
     ]
    },
    {
     "name": "stderr",
     "output_type": "stream",
     "text": [
      "/usr/local/lib/python3.7/site-packages/skimage/io/_io.py:140: UserWarning: opening_then_closing_on_Gaul30.png is a low contrast image\n",
      "  warn('%s is a low contrast image' % fname)\n"
     ]
    },
    {
     "data": {
      "application/vnd.jupyter.widget-view+json": {
       "model_id": "b94df5ce773f41fd994dedfa36df6844",
       "version_major": 2,
       "version_minor": 0
      },
      "text/plain": [
       "HBox(children=(IntProgress(value=0, max=512), HTML(value='')))"
      ]
     },
     "metadata": {},
     "output_type": "display_data"
    },
    {
     "name": "stdout",
     "output_type": "stream",
     "text": [
      "---erosion end---\n",
      "---dilation start---\n"
     ]
    },
    {
     "data": {
      "application/vnd.jupyter.widget-view+json": {
       "model_id": "1ca40f92d5394ba493edb124cb183d15",
       "version_major": 2,
       "version_minor": 0
      },
      "text/plain": [
       "HBox(children=(IntProgress(value=0, max=512), HTML(value='')))"
      ]
     },
     "metadata": {},
     "output_type": "display_data"
    },
    {
     "ename": "KeyboardInterrupt",
     "evalue": "",
     "output_type": "error",
     "traceback": [
      "\u001b[0;31m---------------------------------------------------------------------------\u001b[0m",
      "\u001b[0;31mKeyboardInterrupt\u001b[0m                         Traceback (most recent call last)",
      "\u001b[0;32m<ipython-input-71-4b4b95fe5db0>\u001b[0m in \u001b[0;36m<module>\u001b[0;34m()\u001b[0m\n\u001b[1;32m     61\u001b[0m \u001b[0mio\u001b[0m\u001b[0;34m.\u001b[0m\u001b[0mimsave\u001b[0m\u001b[0;34m(\u001b[0m\u001b[0;34m\"opening_then_closing_on_Gaul10.png\"\u001b[0m\u001b[0;34m,\u001b[0m \u001b[0mopening_then_closing\u001b[0m\u001b[0;34m(\u001b[0m\u001b[0mimg_Gaul10\u001b[0m\u001b[0;34m,\u001b[0m \u001b[0mkernel\u001b[0m\u001b[0;34m)\u001b[0m\u001b[0;34m)\u001b[0m\u001b[0;34m\u001b[0m\u001b[0m\n\u001b[1;32m     62\u001b[0m \u001b[0mio\u001b[0m\u001b[0;34m.\u001b[0m\u001b[0mimsave\u001b[0m\u001b[0;34m(\u001b[0m\u001b[0;34m\"opening_then_closing_on_Gaul30.png\"\u001b[0m\u001b[0;34m,\u001b[0m \u001b[0mopening_then_closing\u001b[0m\u001b[0;34m(\u001b[0m\u001b[0mimg_Gaul30\u001b[0m\u001b[0;34m,\u001b[0m \u001b[0mkernel\u001b[0m\u001b[0;34m)\u001b[0m\u001b[0;34m)\u001b[0m\u001b[0;34m\u001b[0m\u001b[0m\n\u001b[0;32m---> 63\u001b[0;31m \u001b[0mio\u001b[0m\u001b[0;34m.\u001b[0m\u001b[0mimsave\u001b[0m\u001b[0;34m(\u001b[0m\u001b[0;34m\"opening_then_closing_on_Salt005.png\"\u001b[0m\u001b[0;34m,\u001b[0m \u001b[0mopening_then_closing\u001b[0m\u001b[0;34m(\u001b[0m\u001b[0mimg_Salt005\u001b[0m\u001b[0;34m,\u001b[0m \u001b[0mkernel\u001b[0m\u001b[0;34m)\u001b[0m\u001b[0;34m)\u001b[0m\u001b[0;34m\u001b[0m\u001b[0m\n\u001b[0m\u001b[1;32m     64\u001b[0m \u001b[0mio\u001b[0m\u001b[0;34m.\u001b[0m\u001b[0mimsave\u001b[0m\u001b[0;34m(\u001b[0m\u001b[0;34m\"opening_then_closing_on_Salt01.png\"\u001b[0m\u001b[0;34m,\u001b[0m \u001b[0mopening_then_closing\u001b[0m\u001b[0;34m(\u001b[0m\u001b[0mimg_Salt01\u001b[0m\u001b[0;34m,\u001b[0m \u001b[0mkernel\u001b[0m\u001b[0;34m)\u001b[0m\u001b[0;34m)\u001b[0m\u001b[0;34m\u001b[0m\u001b[0m\n\u001b[1;32m     65\u001b[0m \u001b[0;34m\u001b[0m\u001b[0m\n",
      "\u001b[0;32m<ipython-input-71-4b4b95fe5db0>\u001b[0m in \u001b[0;36mopening_then_closing\u001b[0;34m(img, kernel)\u001b[0m\n\u001b[1;32m     38\u001b[0m         \u001b[0;32mreturn\u001b[0m \u001b[0mtemp\u001b[0m\u001b[0;34m\u001b[0m\u001b[0m\n\u001b[1;32m     39\u001b[0m \u001b[0;32mdef\u001b[0m \u001b[0mopening_then_closing\u001b[0m\u001b[0;34m(\u001b[0m\u001b[0mimg\u001b[0m\u001b[0;34m,\u001b[0m \u001b[0mkernel\u001b[0m\u001b[0;34m)\u001b[0m\u001b[0;34m:\u001b[0m\u001b[0;34m\u001b[0m\u001b[0m\n\u001b[0;32m---> 40\u001b[0;31m     \u001b[0mtemp\u001b[0m \u001b[0;34m=\u001b[0m \u001b[0mopening\u001b[0m\u001b[0;34m(\u001b[0m\u001b[0mimg\u001b[0m\u001b[0;34m,\u001b[0m \u001b[0mkernel\u001b[0m\u001b[0;34m)\u001b[0m\u001b[0;34m\u001b[0m\u001b[0m\n\u001b[0m\u001b[1;32m     41\u001b[0m     \u001b[0mtemp\u001b[0m \u001b[0;34m=\u001b[0m \u001b[0mclosing\u001b[0m\u001b[0;34m(\u001b[0m\u001b[0mimg\u001b[0m\u001b[0;34m,\u001b[0m \u001b[0mkernel\u001b[0m\u001b[0;34m)\u001b[0m\u001b[0;34m\u001b[0m\u001b[0m\n\u001b[1;32m     42\u001b[0m     \u001b[0;32mreturn\u001b[0m \u001b[0mtemp\u001b[0m\u001b[0;34m\u001b[0m\u001b[0m\n",
      "\u001b[0;32m<ipython-input-71-4b4b95fe5db0>\u001b[0m in \u001b[0;36mopening\u001b[0;34m(img, kernel)\u001b[0m\n\u001b[1;32m     31\u001b[0m \u001b[0;32mdef\u001b[0m \u001b[0mopening\u001b[0m\u001b[0;34m(\u001b[0m\u001b[0mimg\u001b[0m\u001b[0;34m,\u001b[0m \u001b[0mkernel\u001b[0m\u001b[0;34m)\u001b[0m\u001b[0;34m:\u001b[0m\u001b[0;34m\u001b[0m\u001b[0m\n\u001b[1;32m     32\u001b[0m         \u001b[0mtemp\u001b[0m \u001b[0;34m=\u001b[0m \u001b[0merosion\u001b[0m\u001b[0;34m(\u001b[0m\u001b[0mimg\u001b[0m\u001b[0;34m,\u001b[0m \u001b[0mkernel\u001b[0m\u001b[0;34m)\u001b[0m\u001b[0;34m\u001b[0m\u001b[0m\n\u001b[0;32m---> 33\u001b[0;31m         \u001b[0mtemp\u001b[0m \u001b[0;34m=\u001b[0m \u001b[0mdilation\u001b[0m\u001b[0;34m(\u001b[0m\u001b[0mtemp\u001b[0m\u001b[0;34m,\u001b[0m \u001b[0mkernel\u001b[0m\u001b[0;34m)\u001b[0m\u001b[0;34m\u001b[0m\u001b[0m\n\u001b[0m\u001b[1;32m     34\u001b[0m         \u001b[0;32mreturn\u001b[0m \u001b[0mtemp\u001b[0m\u001b[0;34m\u001b[0m\u001b[0m\n\u001b[1;32m     35\u001b[0m \u001b[0;32mdef\u001b[0m \u001b[0mclosing\u001b[0m\u001b[0;34m(\u001b[0m\u001b[0mimg\u001b[0m\u001b[0;34m,\u001b[0m \u001b[0mkernel\u001b[0m\u001b[0;34m)\u001b[0m\u001b[0;34m:\u001b[0m\u001b[0;34m\u001b[0m\u001b[0m\n",
      "\u001b[0;32m<ipython-input-71-4b4b95fe5db0>\u001b[0m in \u001b[0;36mdilation\u001b[0;34m(img, kernel)\u001b[0m\n\u001b[1;32m      8\u001b[0m                         \u001b[0mtemp_max\u001b[0m \u001b[0;34m=\u001b[0m \u001b[0;36m0\u001b[0m\u001b[0;34m\u001b[0m\u001b[0m\n\u001b[1;32m      9\u001b[0m                         \u001b[0;32mfor\u001b[0m \u001b[0mx\u001b[0m\u001b[0;34m,\u001b[0m \u001b[0my\u001b[0m \u001b[0;32min\u001b[0m \u001b[0mkernel\u001b[0m\u001b[0;34m:\u001b[0m\u001b[0;34m\u001b[0m\u001b[0m\n\u001b[0;32m---> 10\u001b[0;31m                                 \u001b[0;32mif\u001b[0m\u001b[0;34m(\u001b[0m\u001b[0;34m(\u001b[0m\u001b[0mi\u001b[0m \u001b[0;34m-\u001b[0m \u001b[0mx\u001b[0m\u001b[0;34m)\u001b[0m \u001b[0;32min\u001b[0m \u001b[0mrange\u001b[0m\u001b[0;34m(\u001b[0m\u001b[0;36m0\u001b[0m\u001b[0;34m,\u001b[0m \u001b[0mwidth\u001b[0m\u001b[0;34m)\u001b[0m \u001b[0;32mand\u001b[0m \u001b[0;34m(\u001b[0m\u001b[0mj\u001b[0m \u001b[0;34m-\u001b[0m \u001b[0my\u001b[0m\u001b[0;34m)\u001b[0m \u001b[0;32min\u001b[0m \u001b[0mrange\u001b[0m\u001b[0;34m(\u001b[0m\u001b[0;36m0\u001b[0m\u001b[0;34m,\u001b[0m \u001b[0mheight\u001b[0m\u001b[0;34m)\u001b[0m\u001b[0;34m)\u001b[0m\u001b[0;34m:\u001b[0m\u001b[0;34m\u001b[0m\u001b[0m\n\u001b[0m\u001b[1;32m     11\u001b[0m                                         \u001b[0mtemp\u001b[0m \u001b[0;34m=\u001b[0m \u001b[0mimg\u001b[0m\u001b[0;34m[\u001b[0m\u001b[0mi\u001b[0m \u001b[0;34m-\u001b[0m \u001b[0mx\u001b[0m\u001b[0;34m]\u001b[0m\u001b[0;34m[\u001b[0m\u001b[0mj\u001b[0m \u001b[0;34m-\u001b[0m \u001b[0my\u001b[0m\u001b[0;34m]\u001b[0m \u001b[0;34m+\u001b[0m \u001b[0mkernel_value\u001b[0m\u001b[0;34m(\u001b[0m\u001b[0mx\u001b[0m\u001b[0;34m,\u001b[0m \u001b[0my\u001b[0m\u001b[0;34m)\u001b[0m\u001b[0;34m\u001b[0m\u001b[0m\n\u001b[1;32m     12\u001b[0m                                         \u001b[0;32mif\u001b[0m\u001b[0;34m(\u001b[0m\u001b[0mtemp\u001b[0m \u001b[0;34m>=\u001b[0m \u001b[0mtemp_max\u001b[0m\u001b[0;34m)\u001b[0m\u001b[0;34m:\u001b[0m\u001b[0;34m\u001b[0m\u001b[0m\n",
      "\u001b[0;31mKeyboardInterrupt\u001b[0m: "
     ]
    }
   ],
   "source": [
    "def blank_image(height, width):\n",
    "\treturn np.array([[0 for i in range(width)] for j in range(height)])\n",
    "def dilation(img, kernel):\n",
    "\tprint(\"---dilation start---\")\n",
    "\treturn_img = blank_image(height, width)\n",
    "\tfor i in tqdm(range(height)):\n",
    "\t\tfor j in range(width):\n",
    "\t\t\ttemp_max = 0\n",
    "\t\t\tfor x, y in kernel:\n",
    "\t\t\t\tif((i - x) in range(0, width) and (j - y) in range(0, height)):\n",
    "\t\t\t\t\ttemp = img[i - x][j - y] + kernel_value(x, y)\n",
    "\t\t\t\t\tif(temp >= temp_max):\n",
    "\t\t\t\t\t\ttemp_max = temp\n",
    "\t\t\treturn_img[i][j] = temp_max\n",
    "\tprint(\"---dilation end---\")\n",
    "\treturn(return_img)\n",
    "def erosion(img, kernel):\n",
    "\treturn_img = blank_image(height, width)\n",
    "\tprint(\"---erosion start---\")\n",
    "\tfor i in tqdm(range(height)):\n",
    "\t\tfor j in range(width):\n",
    "\t\t\ttemp_min = 255\n",
    "\t\t\tfor x, y in kernel:\n",
    "\t\t\t\tif((i + x) in range(0, width) and (j + y) in range(0, height)):\n",
    "\t\t\t\t\ttemp = img[i + x][j + y] - kernel_value(x, y)\n",
    "\t\t\t\t\tif(temp <= temp_min):\n",
    "\t\t\t\t\t\ttemp_min = temp\n",
    "\t\t\treturn_img[i][j] = temp_min\n",
    "\tprint(\"---erosion end---\")\n",
    "\treturn return_img\n",
    "def opening(img, kernel):\n",
    "\ttemp = erosion(img, kernel)\n",
    "\ttemp = dilation(temp, kernel)\n",
    "\treturn temp\n",
    "def closing(img, kernel):\n",
    "\ttemp = dilation(img, kernel)\n",
    "\ttemp = erosion(temp, kernel)\n",
    "\treturn temp\n",
    "def opening_then_closing(img, kernel):\n",
    "    temp = opening(img, kernel)\n",
    "    temp = closing(img, kernel)\n",
    "    return temp\n",
    "def closing_then_opening(img, kernel):\n",
    "    temp = closing(img, kernel)\n",
    "    temp = opening(img, kernel)\n",
    "    return temp\n",
    "def kernel_value(x, y):\n",
    "\t# for this task, the kernel values are always 0\n",
    "\treturn 0\n",
    "\n",
    "\n",
    "# In[16]:\n",
    "\n",
    "\n",
    "import numpy as np\n",
    "kernel = np.array([  [0, 0], [0, 1], [0, 2], [0, -1], [0, -2], [1, 0], \n",
    "\t\t  [1, 1], [1, 2], [1, -1], [1, -2],  [-1, 0], [-1, 1], \n",
    "\t\t  [-1, 2], [-1, -1], [-1, -2], [2, 0], [2, 1], [2, -1],  \n",
    "\t\t  [-2, 0], [-2, 1], [-2, -1] ])\n",
    "\n",
    "io.imsave(\"opening_then_closing_on_Gaul10.png\", opening_then_closing(img_Gaul10, kernel))\n",
    "io.imsave(\"opening_then_closing_on_Gaul30.png\", opening_then_closing(img_Gaul30, kernel))\n",
    "io.imsave(\"opening_then_closing_on_Salt005.png\", opening_then_closing(img_Salt005, kernel))\n",
    "io.imsave(\"opening_then_closing_on_Salt01.png\", opening_then_closing(img_Salt01, kernel))\n",
    "\n",
    "io.imsave(\"closing_then_opening_on_Gaul10.png\", closing_then_opening(img_Gaul10, kernel))\n",
    "io.imsave(\"closing_then_opening_on_Gaul30.png\", closing_then_opening(img_Gaul30, kernel))\n",
    "io.imsave(\"closing_then_opening_on_Salt005.png\", closing_then_opening(img_Salt005, kernel))\n",
    "io.imsave(\"closing_then_opening_on_Salt01.png\", closing_then_opening(img_Salt01, kernel))"
   ]
  },
  {
   "cell_type": "code",
   "execution_count": 104,
   "metadata": {},
   "outputs": [
    {
     "name": "stdout",
     "output_type": "stream",
     "text": [
      "mu = 124.04678344726562 , VS = 2290.1517724907026\n",
      "lena_Salt01.png 25.04427719116211 3099.5042536721885 -1.3142797192883413\n",
      "lena_Gaul30.png 127.56972122192383 11184.213370152376 -6.887411790899474\n",
      "lena_Salt005.png 12.82387924194336 1747.3413836697437 1.1748650199927697\n",
      "closing_then_opening_on_Salt005.png 29.24416732788086 4311.630144431474 -2.7477723482678944\n",
      "box_filter3X3_on_Gaul10.png 142.9487762451172 15010.609139127424 -8.165340517473563\n",
      "median_filter3X3_on_Salt005.png 86.66767501831055 13936.663360002774 -7.842945450158011\n",
      "median_filter3X3_on_Gaul10.png 127.43931579589844 15246.57546476624 -8.23308042925287\n",
      "box_filter5X5_on_Salt005.png 132.80813598632812 14046.79737856891 -7.877130531082158\n",
      "opening_then_closing_on_Gaul10.png 21.816020965576172 1991.4859995847655 0.6068700716537754\n",
      "box_filter5X5_on_Salt01.png 133.76226806640625 13241.976541694254 -7.620885494159118\n",
      "box_filter5X5_on_Gaul30.png 137.77165985107422 14413.174820004904 -7.988953895279135\n",
      "closing_then_opening_on_Gaul30.png 38.13363265991211 888.3329914638161 4.112884732652747\n",
      "median_filter5X5_on_Gaul30.png 131.72535705566406 13834.192752100294 -7.810895576463606\n",
      "median_filter5X5_on_Salt01.png 105.8324089050293 14532.598175889669 -8.024790007696213\n",
      "closing_then_opening_on_Salt01.png 48.092803955078125 4534.073388158344 -2.966242805313499\n",
      "opening_then_closing_on_Salt01.png 185.60813522338867 6758.904856456074 -4.700120682506604\n",
      "opening_then_closing_on_Gaul30.png 39.38717269897461 523.0801273609832 6.412960439641284\n",
      "opening_then_closing_on_Salt005.png 193.5346565246582 9763.622440893063 -6.2974671213727005\n",
      "box_filter5X5_on_Gaul10.png 147.48125076293945 14577.818183317173 -8.038282645693196\n",
      "box_filter3X3_on_Salt005.png 131.59462356567383 13891.58819909077 -7.828876358728808\n",
      "median_filter5X5_on_Gaul10.png 128.21356964111328 14825.136577949801 -8.111344382603829\n",
      "median_filter5X5_on_Salt005.png 101.77125549316406 14489.828703172272 -8.01198986557259\n",
      "closing_then_opening_on_Gaul10.png 27.732646942138672 3411.751806491622 -1.7311316540404234\n",
      "lena_Gaul10.png 127.4560317993164 14442.73119820602 -7.9978506365137845\n",
      "box_filter3X3_on_Gaul30.png 133.77460098266602 14243.408374207535 -7.93749661395437\n",
      "box_filter3X3_on_Salt01.png 131.6436309814453 12768.743240380427 -7.462838892936312\n",
      "median_filter3X3_on_Salt01.png 91.80427551269531 14222.903792449972 -7.931240075911069\n",
      "median_filter3X3_on_Gaul30.png 127.64291763305664 14439.264196742532 -7.996807980290773\n"
     ]
    }
   ],
   "source": [
    "from skimage import io\n",
    "import numpy as np\n",
    "import os\n",
    "import math\n",
    "lena = io.imread('lena.bmp')\n",
    "namelist = os.listdir(\".\")\n",
    "mu = np.sum(lena) / lena.size\n",
    "VS = np.sum(np.power(lena - mu, 2)) / lena.size\n",
    "print('mu =', mu, ', VS =', VS)\n",
    "for i in namelist:\n",
    "    if(not '.png' in i):\n",
    "        continue\n",
    "    temp = io.imread(i)\n",
    "    mu_N = np.sum(temp - lena) / temp.size\n",
    "    VN = np.sum(np.power(temp - lena - mu_N, 2)) / temp.size\n",
    "    # print(temp - lena - mu_N)\n",
    "    SNR = 20 * math.log10(math.sqrt(VS) / math.sqrt(VN))\n",
    "    print(i, mu_N, VN, SNR)"
   ]
  },
  {
   "cell_type": "code",
   "execution_count": 111,
   "metadata": {},
   "outputs": [
    {
     "name": "stdout",
     "output_type": "stream",
     "text": [
      "lena_Salt01.png\n",
      "![](/Users/Njceties/Secrets/NTU Courses/NTU fifth semester/Computer Vision I/hw/hw8/lena_Salt01.png)\n",
      "\n",
      "lena_Gaul30.png\n",
      "![](/Users/Njceties/Secrets/NTU Courses/NTU fifth semester/Computer Vision I/hw/hw8/lena_Gaul30.png)\n",
      "\n",
      "lena_Salt005.png\n",
      "![](/Users/Njceties/Secrets/NTU Courses/NTU fifth semester/Computer Vision I/hw/hw8/lena_Salt005.png)\n",
      "\n",
      "closing_then_opening_on_Salt005.png\n",
      "![](/Users/Njceties/Secrets/NTU Courses/NTU fifth semester/Computer Vision I/hw/hw8/closing_then_opening_on_Salt005.png)\n",
      "\n",
      "box_filter3X3_on_Gaul10.png\n",
      "![](/Users/Njceties/Secrets/NTU Courses/NTU fifth semester/Computer Vision I/hw/hw8/box_filter3X3_on_Gaul10.png)\n",
      "\n",
      "median_filter3X3_on_Salt005.png\n",
      "![](/Users/Njceties/Secrets/NTU Courses/NTU fifth semester/Computer Vision I/hw/hw8/median_filter3X3_on_Salt005.png)\n",
      "\n",
      "median_filter3X3_on_Gaul10.png\n",
      "![](/Users/Njceties/Secrets/NTU Courses/NTU fifth semester/Computer Vision I/hw/hw8/median_filter3X3_on_Gaul10.png)\n",
      "\n",
      "box_filter5X5_on_Salt005.png\n",
      "![](/Users/Njceties/Secrets/NTU Courses/NTU fifth semester/Computer Vision I/hw/hw8/box_filter5X5_on_Salt005.png)\n",
      "\n",
      "opening_then_closing_on_Gaul10.png\n",
      "![](/Users/Njceties/Secrets/NTU Courses/NTU fifth semester/Computer Vision I/hw/hw8/opening_then_closing_on_Gaul10.png)\n",
      "\n",
      "box_filter5X5_on_Salt01.png\n",
      "![](/Users/Njceties/Secrets/NTU Courses/NTU fifth semester/Computer Vision I/hw/hw8/box_filter5X5_on_Salt01.png)\n",
      "\n",
      "box_filter5X5_on_Gaul30.png\n",
      "![](/Users/Njceties/Secrets/NTU Courses/NTU fifth semester/Computer Vision I/hw/hw8/box_filter5X5_on_Gaul30.png)\n",
      "\n",
      "closing_then_opening_on_Gaul30.png\n",
      "![](/Users/Njceties/Secrets/NTU Courses/NTU fifth semester/Computer Vision I/hw/hw8/closing_then_opening_on_Gaul30.png)\n",
      "\n",
      "median_filter5X5_on_Gaul30.png\n",
      "![](/Users/Njceties/Secrets/NTU Courses/NTU fifth semester/Computer Vision I/hw/hw8/median_filter5X5_on_Gaul30.png)\n",
      "\n",
      "median_filter5X5_on_Salt01.png\n",
      "![](/Users/Njceties/Secrets/NTU Courses/NTU fifth semester/Computer Vision I/hw/hw8/median_filter5X5_on_Salt01.png)\n",
      "\n",
      "closing_then_opening_on_Salt01.png\n",
      "![](/Users/Njceties/Secrets/NTU Courses/NTU fifth semester/Computer Vision I/hw/hw8/closing_then_opening_on_Salt01.png)\n",
      "\n",
      "opening_then_closing_on_Salt01.png\n",
      "![](/Users/Njceties/Secrets/NTU Courses/NTU fifth semester/Computer Vision I/hw/hw8/opening_then_closing_on_Salt01.png)\n",
      "\n",
      "opening_then_closing_on_Gaul30.png\n",
      "![](/Users/Njceties/Secrets/NTU Courses/NTU fifth semester/Computer Vision I/hw/hw8/opening_then_closing_on_Gaul30.png)\n",
      "\n",
      "opening_then_closing_on_Salt005.png\n",
      "![](/Users/Njceties/Secrets/NTU Courses/NTU fifth semester/Computer Vision I/hw/hw8/opening_then_closing_on_Salt005.png)\n",
      "\n",
      "box_filter5X5_on_Gaul10.png\n",
      "![](/Users/Njceties/Secrets/NTU Courses/NTU fifth semester/Computer Vision I/hw/hw8/box_filter5X5_on_Gaul10.png)\n",
      "\n",
      "box_filter3X3_on_Salt005.png\n",
      "![](/Users/Njceties/Secrets/NTU Courses/NTU fifth semester/Computer Vision I/hw/hw8/box_filter3X3_on_Salt005.png)\n",
      "\n",
      "median_filter5X5_on_Gaul10.png\n",
      "![](/Users/Njceties/Secrets/NTU Courses/NTU fifth semester/Computer Vision I/hw/hw8/median_filter5X5_on_Gaul10.png)\n",
      "\n",
      "median_filter5X5_on_Salt005.png\n",
      "![](/Users/Njceties/Secrets/NTU Courses/NTU fifth semester/Computer Vision I/hw/hw8/median_filter5X5_on_Salt005.png)\n",
      "\n",
      "closing_then_opening_on_Gaul10.png\n",
      "![](/Users/Njceties/Secrets/NTU Courses/NTU fifth semester/Computer Vision I/hw/hw8/closing_then_opening_on_Gaul10.png)\n",
      "\n",
      "lena_Gaul10.png\n",
      "![](/Users/Njceties/Secrets/NTU Courses/NTU fifth semester/Computer Vision I/hw/hw8/lena_Gaul10.png)\n",
      "\n",
      "SNR.png\n",
      "![](/Users/Njceties/Secrets/NTU Courses/NTU fifth semester/Computer Vision I/hw/hw8/SNR.png)\n",
      "\n",
      "box_filter3X3_on_Gaul30.png\n",
      "![](/Users/Njceties/Secrets/NTU Courses/NTU fifth semester/Computer Vision I/hw/hw8/box_filter3X3_on_Gaul30.png)\n",
      "\n",
      "box_filter3X3_on_Salt01.png\n",
      "![](/Users/Njceties/Secrets/NTU Courses/NTU fifth semester/Computer Vision I/hw/hw8/box_filter3X3_on_Salt01.png)\n",
      "\n",
      "median_filter3X3_on_Salt01.png\n",
      "![](/Users/Njceties/Secrets/NTU Courses/NTU fifth semester/Computer Vision I/hw/hw8/median_filter3X3_on_Salt01.png)\n",
      "\n",
      "median_filter3X3_on_Gaul30.png\n",
      "![](/Users/Njceties/Secrets/NTU Courses/NTU fifth semester/Computer Vision I/hw/hw8/median_filter3X3_on_Gaul30.png)\n",
      "\n"
     ]
    }
   ],
   "source": [
    "# ![SNR](/Users/Njceties/Secrets/NTU Courses/NTU fifth semester/Computer Vision I/hw/hw8/SNR.png)\n",
    "from skimage import io\n",
    "import numpy as np\n",
    "import os\n",
    "import math\n",
    "lena = io.imread('lena.bmp')\n",
    "namelist = os.listdir(\".\")\n",
    "for i in namelist:\n",
    "    if(not '.png' in i):\n",
    "        continue\n",
    "    print(i)\n",
    "    print(\"![](/Users/Njceties/Secrets/NTU Courses/NTU fifth semester/Computer Vision I/hw/hw8/\" + i + \")\\n\")\n",
    "    print(\"<div style=\"page-break-after: always;\"></div>\")"
   ]
  },
  {
   "cell_type": "markdown",
   "metadata": {},
   "source": [
    "![SNR](/Users/Njceties/Secrets/NTU Courses/NTU fifth semester/Computer Vision I/hw/hw8/SNR.png)"
   ]
  }
 ],
 "metadata": {
  "kernelspec": {
   "display_name": "Python 3",
   "language": "python",
   "name": "python3"
  },
  "language_info": {
   "codemirror_mode": {
    "name": "ipython",
    "version": 3
   },
   "file_extension": ".py",
   "mimetype": "text/x-python",
   "name": "python",
   "nbconvert_exporter": "python",
   "pygments_lexer": "ipython3",
   "version": "3.7.0"
  }
 },
 "nbformat": 4,
 "nbformat_minor": 2
}

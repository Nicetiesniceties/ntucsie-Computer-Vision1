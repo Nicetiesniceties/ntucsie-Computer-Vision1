{
 "cells": [
  {
   "cell_type": "code",
   "execution_count": 16,
   "metadata": {},
   "outputs": [
    {
     "name": "stdout",
     "output_type": "stream",
     "text": [
      "mu = 124.04678344726562 , VS = 2290.1517724907026\n"
     ]
    }
   ],
   "source": [
    "from skimage import io\n",
    "import numpy as np\n",
    "import os\n",
    "lena = io.imread('lena.bmp')\n",
    "namelist = os.listdir(\".\")\n",
    "mu = np.sum(lena) / lena.size\n",
    "VS = np.sum(np.power(lena - mu, 2)) / lena.size\n",
    "print('mu =', mu, ', VS =', VS)\n",
    "for i in namelist:\n",
    "    if(not '.png' in i):\n",
    "        continue\n",
    "    temp = io.imread(i)\n",
    "    VN = 2"
   ]
  },
  {
   "cell_type": "code",
   "execution_count": null,
   "metadata": {},
   "outputs": [],
   "source": []
  }
 ],
 "metadata": {
  "kernelspec": {
   "display_name": "Python 3",
   "language": "python",
   "name": "python3"
  },
  "language_info": {
   "codemirror_mode": {
    "name": "ipython",
    "version": 3
   },
   "file_extension": ".py",
   "mimetype": "text/x-python",
   "name": "python",
   "nbconvert_exporter": "python",
   "pygments_lexer": "ipython3",
   "version": "3.7.0"
  }
 },
 "nbformat": 4,
 "nbformat_minor": 2
}

{
 "cells": [
  {
   "cell_type": "code",
   "execution_count": 80,
   "metadata": {},
   "outputs": [],
   "source": [
    "# Read lena.bmp\n",
    "from skimage import io\n",
    "lena = io.imread(\"lena.bmp\")\n",
    "# io.imshow(lena)\n",
    "height = len(lena)\n",
    "width = len(lena[0])\n",
    "# Binarize\n",
    "binarized_lena = lena.copy()\n",
    "for i in range(height):\n",
    "    for j in range(width):\n",
    "        if(binarized_lena[i][j] >= 128):\n",
    "            binarized_lena[i][j] = 1\n",
    "        else:\n",
    "            binarized_lena[i][j] = 0"
   ]
  },
  {
   "cell_type": "code",
   "execution_count": 81,
   "metadata": {},
   "outputs": [],
   "source": [
    "# shrinking lena\n",
    "shrink_lena = [[]]\n",
    "for i in range(0, height, 8):\n",
    "    now = shrink_lena[-1]\n",
    "    for j in range(0, width, 8):\n",
    "        if((i % 8 == 0) and (j % 8 == 0)):\n",
    "            now.append(binarized_lena[i][j])\n",
    "    shrink_lena.append([])\n",
    "# print(shrink_lena)"
   ]
  },
  {
   "cell_type": "code",
   "execution_count": 82,
   "metadata": {},
   "outputs": [
    {
     "name": "stdout",
     "output_type": "stream",
     "text": [
      "(66, 66)\n"
     ]
    }
   ],
   "source": [
    "import numpy as np\n",
    "height = int(height / 8)\n",
    "width = int(width / 8)\n",
    "# initialize an array\n",
    "\n",
    "frame = []\n",
    "for i in range(height + 2):\n",
    "    frame.append([])\n",
    "    for j in range(width + 2):\n",
    "        frame[-1].append(0)\n",
    "print(np.array(frame).shape)\n",
    "# put in a 0, 0 frame\n",
    "for i in range(height):\n",
    "    for j in range(width):\n",
    "        frame[i + 1][j + 1] = shrink_lena[i][j]"
   ]
  },
  {
   "cell_type": "code",
   "execution_count": 83,
   "metadata": {},
   "outputs": [],
   "source": [
    "def yokoi(f):\n",
    "    if(f == ['r', 'r', 'r', 'r']):\n",
    "        return 5\n",
    "    else:\n",
    "        return f.count('q')"
   ]
  },
  {
   "cell_type": "code",
   "execution_count": 84,
   "metadata": {},
   "outputs": [
    {
     "name": "stdout",
     "output_type": "stream",
     "text": [
      "11111111        12111111111122322221     111111111111           \n",
      "15555551         115555555511 2 11  11   1155555555511          \n",
      "15555551        1 2115555112  21112221    155555555551      21  \n",
      "15555551        1 2 155112 22221511       1555555555511     1   \n",
      "15555551         22 2112 22    121        15555555555511        \n",
      "15555551         1  2  21 2     1   1     15555555555551        \n",
      "15555551           12 1  121111    1321   155555555555511       \n",
      "15111551           1322 1155551111        155555555555551       \n",
      "111 1551            1  121555555511       155555555555511       \n",
      "11  1551                 21155555511      15511155555511        \n",
      "21  1551                 2 15555555111    1551 11555511         \n",
      "1   1551                 2 155555555511   1551  115551         1\n",
      "    1551               1121155555555551   1551   15511        12\n",
      "    1551               15555555555555511  1551   1111        111\n",
      "    1551        1     2221155555555555511 1151    11        1151\n",
      "    1551        2    22 1 1555555555555511 151  11111       1551\n",
      "    1551        2    1   11555555555555551 151 115551      11551\n",
      "    1551        2       11555555555555555111511155511     115551\n",
      "    1551       12      11555555555555555555555555551      155551\n",
      "    1551       11     221555555555555555555555555112     1155551\n",
      "    1551       111   22 15555555555555555555555551 1     1555551\n",
      "    1551       1511  1 125112111112111555555555111      11555551\n",
      "    1551       15521  1 121 1 11  1  15555555111        15555551\n",
      "    1551       1151  132 2          1155555111         115555551\n",
      "    1551        151    322         115555111  121      155555551\n",
      "    1551        1221   2           1555551   131      1155555551\n",
      "    1551         2     1          115555511   1       1155555551\n",
      "    1551         2               1155555551          1 155555551\n",
      "    1551         2              11555555551          21155555551\n",
      "    1551         1             115555555551          15555555551\n",
      "    1551          1           11511115555521  1     115555555551\n",
      "    1551        1 1          11111  1155511   2     155555555551\n",
      "    1551       131           111     15111    2     155555555551\n",
      "    1551      121          1121   1  111  1   2    1155555555551\n",
      "    1551      11           111 1  221 11  1   2    1555555555551\n",
      "    1551    12       1     21 121  11 1111    2    1555555555551\n",
      "    1551     1      12    22  151111111551    2   11555555555551\n",
      "    1551   1              2   1555551115511   1   15555555555551\n",
      "    1551   2             22  12555551 15551    1  15555555555551\n",
      "    1551   1             1    1555511 11511    2 115555555555551\n",
      "    1551               21     155551 1 151     2 155555555555551\n",
      "    1551               2      15555112 151     2 155555555555551\n",
      "    1551         1   1 1     1155555511111     2 155555555555551\n",
      "    1551         2  22       111511111212      21155555555555551\n",
      "    1551         1 12          151    2 1      15555555111555551\n",
      "    1551                       1111  121       155555551 1555551\n",
      "    1551                        11111111       155555551 1555551\n",
      "    1551                         115551        155555551 1555511\n",
      "    1551                          15551        211111111 155511 \n",
      "    11521      1   12          122155511       2     11 115511  \n",
      "1    151       1    1            155555111     2111     15511   \n",
      "22   1511          1             15555555111   155111   1511    \n",
      " 22  1511          1             15555555551   155551  1151     \n",
      "  2  151              1        11155555555511  155511  1511     \n",
      "  2  1521             1        155555555555511 15551 12151      \n",
      "  2  151           121         155555555555551 155511 1551      \n",
      "  2  1511                      155555555555551 115551 1511      \n",
      "  21 1511            11        155555555555551  111111151       \n",
      "  11 151                      11555555555555511    111511       \n",
      "  11 151                      15555555555555551      151        \n",
      "  11 151                     115555555555555551      211        \n",
      "  11 151                     1155555555555555511     1          \n",
      "  11 151                      155555555555555551                \n",
      "  11 111                     1211111111111111111                \n"
     ]
    }
   ],
   "source": [
    "ans = [[]]\n",
    "delta_c = np.array([[1, 0], [0, 1], [-1, 0], [0, -1]])\n",
    "delta_d = np.array([[1, 1], [-1, 1], [-1, -1], [1, -1]])\n",
    "delta_e = np.array([[0, 1], [-1, 0], [0, -1], [1, 0]])\n",
    "for i in range(1, height + 2 - 1):\n",
    "    for j in range(1, width + 2 - 1):\n",
    "        if(frame[i][j] == 0):\n",
    "            print(' ', end = '')\n",
    "        else:\n",
    "            f = []\n",
    "            for d in range(4):\n",
    "                Type = 'chiu'\n",
    "                o = np.array([i, j])\n",
    "                b, c, d, e = o, o + delta_c[d] , o + delta_d[d], o + delta_e[d]\n",
    "                # print(b, c, d, e)\n",
    "                b, c, d, e = frame[b[0]][b[1]], frame[c[0]][c[1]], frame[d[0]][d[1]], frame[e[0]][e[1]]\n",
    "                if(b == c and (d != b or e != b)):\n",
    "                    Type = 'q'\n",
    "                elif(b == c):\n",
    "                    Type = 'r'\n",
    "                else:\n",
    "                    Type = 's'\n",
    "                f.append(Type)\n",
    "            ans = yokoi(f)\n",
    "            print(' ' if(ans == 0) else ans, end = '')\n",
    "    print()"
   ]
  },
  {
   "cell_type": "code",
   "execution_count": null,
   "metadata": {},
   "outputs": [],
   "source": []
  }
 ],
 "metadata": {
  "kernelspec": {
   "display_name": "Python 3",
   "language": "python",
   "name": "python3"
  },
  "language_info": {
   "codemirror_mode": {
    "name": "ipython",
    "version": 3
   },
   "file_extension": ".py",
   "mimetype": "text/x-python",
   "name": "python",
   "nbconvert_exporter": "python",
   "pygments_lexer": "ipython3",
   "version": "3.7.0"
  }
 },
 "nbformat": 4,
 "nbformat_minor": 2
}

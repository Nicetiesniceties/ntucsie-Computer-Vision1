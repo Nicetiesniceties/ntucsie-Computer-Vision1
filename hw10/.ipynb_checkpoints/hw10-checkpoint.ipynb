{
 "cells": [
  {
   "cell_type": "code",
   "execution_count": 1,
   "metadata": {},
   "outputs": [],
   "source": [
    "from skimage import io\n",
    "import numpy as np\n",
    "lena = io.imread('lena.bmp')\n",
    "height = len(lena)\n",
    "width = len(lena[0])"
   ]
  },
  {
   "cell_type": "code",
   "execution_count": 2,
   "metadata": {},
   "outputs": [],
   "source": [
    "def blank_image(height, width, value):\n",
    "    temp = np.zeros((height, width), dtype = int)\n",
    "    return temp + value"
   ]
  },
  {
   "cell_type": "code",
   "execution_count": 19,
   "metadata": {},
   "outputs": [],
   "source": [
    "from tqdm import tqdm_notebook as tqdm\n",
    "import math\n",
    "def laplace_type1(img, threshold):\n",
    "    return_img = blank_image(height, width, 255)\n",
    "    temp = lena.copy()\n",
    "    gradient = blank_image(height, width, 255)\n",
    "    for i in tqdm(range(1, height - 1)):\n",
    "        for j in range(1, width - 1):\n",
    "            gradient[i][j] = temp[i + 1][j] * 1 + temp[i][j - 1] * 1 + temp[i][j + 1] * 1 + temp[i - 1][j] * 1 + temp[i][j] * (-4)  \n",
    "    for i in tqdm(range(1, height - 1)):\n",
    "        for j in range(1, width - 1):\n",
    "            if(gradient[i][j] > threshold):\n",
    "                return_img[i][j] = 0\n",
    "    return return_img\n",
    "\n",
    "\n",
    "def laplace_type2(img, threshold):\n",
    "    return_img = blank_image(height, width, 255)\n",
    "    temp = lena.copy()\n",
    "    gradient = blank_image(height, width, 0)\n",
    "    io.imshow(gradient)\n",
    "    for i in tqdm(range(1, height - 1)):\n",
    "        for j in range(1, width - 1):\n",
    "            gradient[i][j] = (temp[i + 1][j] * 1 + temp[i][j - 1] * 1 + temp[i][j + 1] * 1 + temp[i - 1][j] * 1\n",
    "                              + temp[i + 1][j + 1] * 1 + temp[i + 1][j - 1] * 1+ temp[i - 1][j + 1] * 1 + temp[i - 1][j - 1] * 1)\n",
    "            gradient[i][j] -= temp[i][j] * 8\n",
    "            gradient[i][j] = gradient[i][j] * 1/3\n",
    "    for i in tqdm(range(1, height - 1)):\n",
    "        for j in range(1, width - 1):\n",
    "            if(gradient[i][j] > threshold):\n",
    "                return_img[i][j] = 0\n",
    "    return return_img\n",
    "\n",
    "\n",
    "def minimum_variance_laplacian(img, threshold):\n",
    "    return_img = blank_image(height, width, 255)\n",
    "    temp = lena.copy()\n",
    "    gradient = blank_image(height, width, 255)\n",
    "    for i in tqdm(range(1, height - 1)):\n",
    "        for j in range(1, width - 1):\n",
    "            gradient[i][j] = (temp[i + 1][j] * (-1) + temp[i][j - 1] * (-1) + temp[i][j + 1] * (-1) + temp[i - 1][j] * (-1)\n",
    "                              + temp[i + 1][j + 1] * 2 + temp[i + 1][j - 1] * 2 + temp[i - 1][j + 1] * 2 + temp[i - 1][j - 1] * 2)\n",
    "            gradient[i][j] -= temp[i][j] * 4\n",
    "            gradient[i][j] = gradient[i][j] * 1/3\n",
    "    for i in tqdm(range(1, height - 1)):\n",
    "        for j in range(1, width - 1):\n",
    "            if(gradient[i][j] > threshold):\n",
    "                return_img[i][j] = 0\n",
    "    return return_img\n",
    "\n",
    "\n",
    "def laplacian_of_gaussian(img, threshold):\n",
    "    return_img = blank_image(height, width, 255)\n",
    "    temp = lena.copy()\n",
    "    gradient = blank_image(height, width, 0)\n",
    "    kernel = [\n",
    "        [0, 0, 0, -1, -1, -2, -1, -1, 0, 0, 0], \n",
    "        [0, 0, -2, -4, -8, -9, -8, -4, -2, 0, 0], \n",
    "        [0, -2, -7, -15, -22, -23, -22, -15, -7, -2, 0], \n",
    "        [-1, -4, -15, -24, -14, -1, -14, -24, -15, -4, -1], \n",
    "        [-1, -8, -22, -14, 52, 103, 52, -14, -22, -8, -1], \n",
    "        [-2, -9, -23, -1, 103, 178, 103, -1, -23, -9, -2],\n",
    "        [-1, -8, -22, -14, 52, 103, 52, -14, -22, -8, -1],\n",
    "        [-1, -4, -15, -24, -14, -1, -14, -24, -15, -4, -1],\n",
    "        [0, -2, -7, -15, -22, -23, -22, -15, -7, -2, 0], \n",
    "        [0, 0, -2, -4, -8, -9, -8, -4, -2, 0, 0],\n",
    "        [0, 0, 0, -1, -1, -2, -1, -1, 0, 0, 0], \n",
    "    ]\n",
    "    for i in tqdm(range(5, height - 5)):\n",
    "        for j in range(5, width - 5):\n",
    "            for x in range(-5, 6):\n",
    "                for y in range(-5, 6):\n",
    "                    gradient[i][j] += temp[i + x][j + y] * kernel[5 + x][5 + y] * 1\n",
    "    for i in tqdm(range(5, height - 5)):\n",
    "        for j in range(5, width - 5):\n",
    "            if(gradient[i][j] > threshold):\n",
    "                return_img[i][j] = 0\n",
    "    return return_img\n",
    "\n",
    "def difference_of_gaussian(img, threshold):\n",
    "    return_img = blank_image(height, width, 0)\n",
    "    temp = lena.copy()\n",
    "    gradient = blank_image(height, width, 0)\n",
    "    kernel = [\n",
    "        [-1, -3, -4, -6, -7, -8, -7, -6, -4, -3, -1], \n",
    "        [-3, -5, -8, -11, -13, -13, -13, -11, -8, -5, -3], \n",
    "        [-4, -8, -12, -16, -17, -17, -17, -16, -12, -8, -4], \n",
    "        [-6, -11, -16, -16, 0, 15, 0, -16, -16, -11, -6], \n",
    "        [-7, -13, -17, 0, 85, 160, 85, 0, -17, -13, -7], \n",
    "        [-8, -13, -17, 15, 160, 283, 160, 15, -17, -13, -8],\n",
    "        [-7, -13, -17, 0, 85, 160, 85, 0, -17, -13, -7],\n",
    "        [-6, -11, -16, -16, 0, 15, 0, -16, -16, -11, -6],\n",
    "        [-4, -8, -12, -16, -17, -17, -17, -16, -12, -8, -4],\n",
    "        [-3, -5, -8, -11, -13, -13, -13, -11, -8, -5, -3],\n",
    "        [-1, -3, -4, -6, -7, -8, -7, -6, -4, -3, -1], \n",
    "    ]\n",
    "    for i in tqdm(range(5, height - 5)):\n",
    "        for j in range(5, width - 5):\n",
    "            for x in range(-5, 6):\n",
    "                for y in range(-5, 6):\n",
    "                    gradient[i][j] += temp[i + x][j + y] * kernel[5 + x][5 + y] * 1\n",
    "    for i in tqdm(range(5, height - 5)):\n",
    "        for j in range(5, width - 5):\n",
    "            if(gradient[i][j] > threshold):\n",
    "                return_img[i][j] = 255\n",
    "    # get the border white\n",
    "    for i in range(0, height):\n",
    "        for j in range(height - 5, height):\n",
    "            return_img[i][j] = 255\n",
    "            return_img[j][i] = 255\n",
    "    for i in range(0, height):\n",
    "        for j in range(0, 5):\n",
    "            return_img[i][j] = 255\n",
    "            return_img[j][i] = 255\n",
    "    return return_img"
   ]
  },
  {
   "cell_type": "code",
   "execution_count": 20,
   "metadata": {},
   "outputs": [
    {
     "data": {
      "application/vnd.jupyter.widget-view+json": {
       "model_id": "d56f120bda624536ab49572087602e22",
       "version_major": 2,
       "version_minor": 0
      },
      "text/plain": [
       "HBox(children=(IntProgress(value=0, max=502), HTML(value='')))"
      ]
     },
     "metadata": {},
     "output_type": "display_data"
    },
    {
     "data": {
      "application/vnd.jupyter.widget-view+json": {
       "model_id": "57055e7f0a5648feab4b3a4e801de803",
       "version_major": 2,
       "version_minor": 0
      },
      "text/plain": [
       "HBox(children=(IntProgress(value=0, max=502), HTML(value='')))"
      ]
     },
     "metadata": {},
     "output_type": "display_data"
    },
    {
     "name": "stderr",
     "output_type": "stream",
     "text": [
      "/usr/local/lib/python3.7/site-packages/skimage/io/_io.py:140: UserWarning: difference_of_gaussian.png is a low contrast image\n",
      "  warn('%s is a low contrast image' % fname)\n"
     ]
    }
   ],
   "source": [
    "io.imsave(\"laplace_type1.png\", laplace_type1(lena, 15))\n",
    "io.imsave(\"laplace_type2.png\", laplace_type2(lena, 15))\n",
    "io.imsave(\"minimum_variance_laplacian.png\", minimum_variance_laplacian(lena, 19))\n",
    "io.imsave(\"laplacian_of_gaussian.png\", laplacian_of_gaussian(lena, 8000))\n",
    "io.imsave(\"difference_of_gaussian.png\", difference_of_gaussian(lena, 10000))"
   ]
  },
  {
   "cell_type": "code",
   "execution_count": null,
   "metadata": {},
   "outputs": [],
   "source": [
    "'''\n",
    "kernel1 = blank_image(11, 11, 0)\n",
    "    kernel2 = blank_image(11, 11, 0)\n",
    "    kernel = blank_image(11, 11, 0)\n",
    "    sum1 = 0\n",
    "    sum2 = 0\n",
    "    for i in range(11):\n",
    "        for j in range(11):\n",
    "            kernel1[i][j] = (2 * math.pi * 9) * math.exp(-(i ** 2 + j ** 2) / (2 * 9))\n",
    "            kernel2[i][j] = (2 * math.pi * 1) * math.exp(-(i ** 2 + j ** 2) / (2 * 1))\n",
    "            sum1 += kernel1[i][j]\n",
    "            sum2 += kernel2[i][j]\n",
    "    print(kernel1, kernel2)\n",
    "    print(sum1, sum2)\n",
    "    for i in range(11):\n",
    "        for j in range(11):\n",
    "            kernel1[i][j] /= sum1\n",
    "            kernel2[i][j] /= sum2\n",
    "            print(kernel1[i][j], kernel1[i][j] / sum1)\n",
    "            kernel[i][j] = kernel2[i][j] - kernel1[i][j]\n",
    "                       \n",
    "    print(kernel)\n",
    "'''"
   ]
  }
 ],
 "metadata": {
  "kernelspec": {
   "display_name": "Python 3",
   "language": "python",
   "name": "python3"
  },
  "language_info": {
   "codemirror_mode": {
    "name": "ipython",
    "version": 3
   },
   "file_extension": ".py",
   "mimetype": "text/x-python",
   "name": "python",
   "nbconvert_exporter": "python",
   "pygments_lexer": "ipython3",
   "version": "3.7.0"
  }
 },
 "nbformat": 4,
 "nbformat_minor": 2
}
